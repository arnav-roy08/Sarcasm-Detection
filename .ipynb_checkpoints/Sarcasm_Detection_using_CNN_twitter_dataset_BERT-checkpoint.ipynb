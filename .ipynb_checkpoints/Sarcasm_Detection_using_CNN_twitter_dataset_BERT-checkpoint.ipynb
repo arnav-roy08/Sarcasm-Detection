{
 "cells": [
  {
   "cell_type": "code",
   "execution_count": 1,
   "metadata": {
    "id": "3CAvZH8liGpj"
   },
   "outputs": [],
   "source": [
    "import pandas as pd\n",
    "import numpy as np\n",
    "import matplotlib.pyplot as plt\n",
    "import seaborn as sns\n",
    "%matplotlib inline"
   ]
  },
  {
   "cell_type": "code",
   "execution_count": 2,
   "metadata": {
    "id": "4s2Plv4lh3Gk"
   },
   "outputs": [],
   "source": [
    "df=pd.read_json('sarcasm_detection_shared_task_twitter_training.jsonl',lines=True)"
   ]
  },
  {
   "cell_type": "code",
   "execution_count": 3,
   "metadata": {
    "colab": {
     "base_uri": "https://localhost:8080/",
     "height": 204
    },
    "id": "SbZsJtm-iPq0",
    "outputId": "af9ca3a7-b869-463a-8ca4-a9cb28205b31"
   },
   "outputs": [
    {
     "data": {
      "text/html": [
       "<div>\n",
       "<style scoped>\n",
       "    .dataframe tbody tr th:only-of-type {\n",
       "        vertical-align: middle;\n",
       "    }\n",
       "\n",
       "    .dataframe tbody tr th {\n",
       "        vertical-align: top;\n",
       "    }\n",
       "\n",
       "    .dataframe thead th {\n",
       "        text-align: right;\n",
       "    }\n",
       "</style>\n",
       "<table border=\"1\" class=\"dataframe\">\n",
       "  <thead>\n",
       "    <tr style=\"text-align: right;\">\n",
       "      <th></th>\n",
       "      <th>label</th>\n",
       "      <th>response</th>\n",
       "      <th>context</th>\n",
       "    </tr>\n",
       "  </thead>\n",
       "  <tbody>\n",
       "    <tr>\n",
       "      <th>0</th>\n",
       "      <td>SARCASM</td>\n",
       "      <td>@USER @USER @USER I don't get this .. obviousl...</td>\n",
       "      <td>[A minor child deserves privacy and should be ...</td>\n",
       "    </tr>\n",
       "    <tr>\n",
       "      <th>1</th>\n",
       "      <td>SARCASM</td>\n",
       "      <td>@USER @USER trying to protest about . Talking ...</td>\n",
       "      <td>[@USER @USER Why is he a loser ? He's just a P...</td>\n",
       "    </tr>\n",
       "    <tr>\n",
       "      <th>2</th>\n",
       "      <td>SARCASM</td>\n",
       "      <td>@USER @USER @USER He makes an insane about of ...</td>\n",
       "      <td>[Donald J . Trump is guilty as charged . The e...</td>\n",
       "    </tr>\n",
       "    <tr>\n",
       "      <th>3</th>\n",
       "      <td>SARCASM</td>\n",
       "      <td>@USER @USER Meanwhile Trump won't even release...</td>\n",
       "      <td>[Jamie Raskin tanked Doug Collins . Collins lo...</td>\n",
       "    </tr>\n",
       "    <tr>\n",
       "      <th>4</th>\n",
       "      <td>SARCASM</td>\n",
       "      <td>@USER @USER Pretty Sure the Anti-Lincoln Crowd...</td>\n",
       "      <td>[Man ... y ’ all gone “ both sides ” the apoca...</td>\n",
       "    </tr>\n",
       "  </tbody>\n",
       "</table>\n",
       "</div>"
      ],
      "text/plain": [
       "     label                                           response  \\\n",
       "0  SARCASM  @USER @USER @USER I don't get this .. obviousl...   \n",
       "1  SARCASM  @USER @USER trying to protest about . Talking ...   \n",
       "2  SARCASM  @USER @USER @USER He makes an insane about of ...   \n",
       "3  SARCASM  @USER @USER Meanwhile Trump won't even release...   \n",
       "4  SARCASM  @USER @USER Pretty Sure the Anti-Lincoln Crowd...   \n",
       "\n",
       "                                             context  \n",
       "0  [A minor child deserves privacy and should be ...  \n",
       "1  [@USER @USER Why is he a loser ? He's just a P...  \n",
       "2  [Donald J . Trump is guilty as charged . The e...  \n",
       "3  [Jamie Raskin tanked Doug Collins . Collins lo...  \n",
       "4  [Man ... y ’ all gone “ both sides ” the apoca...  "
      ]
     },
     "execution_count": 3,
     "metadata": {},
     "output_type": "execute_result"
    }
   ],
   "source": [
    "df.head()"
   ]
  },
  {
   "cell_type": "code",
   "execution_count": 4,
   "metadata": {
    "colab": {
     "base_uri": "https://localhost:8080/"
    },
    "id": "r5vtHY2MigRq",
    "outputId": "2084273f-87f6-4048-ebc4-3d7e45220884"
   },
   "outputs": [
    {
     "name": "stdout",
     "output_type": "stream",
     "text": [
      "<class 'pandas.core.frame.DataFrame'>\n",
      "RangeIndex: 5000 entries, 0 to 4999\n",
      "Data columns (total 3 columns):\n",
      " #   Column    Non-Null Count  Dtype \n",
      "---  ------    --------------  ----- \n",
      " 0   label     5000 non-null   object\n",
      " 1   response  5000 non-null   object\n",
      " 2   context   5000 non-null   object\n",
      "dtypes: object(3)\n",
      "memory usage: 117.3+ KB\n"
     ]
    }
   ],
   "source": [
    "df.info()"
   ]
  },
  {
   "cell_type": "code",
   "execution_count": 5,
   "metadata": {
    "colab": {
     "base_uri": "https://localhost:8080/"
    },
    "id": "bdyLnXZAiuq1",
    "outputId": "6b203ba0-094f-4f94-da2a-79cc406b0669"
   },
   "outputs": [
    {
     "data": {
      "text/plain": [
       "NOT_SARCASM    2500\n",
       "SARCASM        2500\n",
       "Name: label, dtype: int64"
      ]
     },
     "execution_count": 5,
     "metadata": {},
     "output_type": "execute_result"
    }
   ],
   "source": [
    "df['label'].value_counts()"
   ]
  },
  {
   "cell_type": "code",
   "execution_count": 6,
   "metadata": {
    "colab": {
     "base_uri": "https://localhost:8080/",
     "height": 297
    },
    "id": "GZpl7bQqjxAn",
    "outputId": "4770aaed-7483-4b44-88fd-54e8ab4c2711"
   },
   "outputs": [
    {
     "data": {
      "text/plain": [
       "<AxesSubplot:xlabel='label', ylabel='count'>"
      ]
     },
     "execution_count": 6,
     "metadata": {},
     "output_type": "execute_result"
    },
    {
     "data": {
      "image/png": "[encoded data removed]",
      "text/plain": [
       "<Figure size 432x288 with 1 Axes>"
      ]
     },
     "metadata": {},
     "output_type": "display_data"
    }
   ],
   "source": [
    "sns.set_style('whitegrid')\n",
    "sns.countplot(x='label',data=df)"
   ]
  },
  {
   "cell_type": "code",
   "execution_count": 7,
   "metadata": {
    "colab": {
     "base_uri": "https://localhost:8080/",
     "height": 204
    },
    "id": "wqZpHprSlm_U",
    "outputId": "ef171bb8-71ad-4252-c48e-15f7fb753b62"
   },
   "outputs": [
    {
     "name": "stderr",
     "output_type": "stream",
     "text": [
      "<ipython-input-7-c9cae9c58653>:2: FutureWarning: The default value of regex will change from True to False in a future version.\n",
      "  df['response']=df['response'].str.replace('\\d+', '')\n",
      "<ipython-input-7-c9cae9c58653>:4: FutureWarning: The default value of regex will change from True to False in a future version.\n",
      "  df['response']=df['response'].str.replace('[^\\w\\s]','')\n",
      "<ipython-input-7-c9cae9c58653>:9: FutureWarning: The default value of regex will change from True to False in a future version.\n",
      "  df['context']=df['context'].str.replace('[^\\w\\s]','')\n",
      "<ipython-input-7-c9cae9c58653>:10: FutureWarning: The default value of regex will change from True to False in a future version.\n",
      "  df['context']=df['context'].str.replace('\\d+', '')\n"
     ]
    },
    {
     "data": {
      "text/html": [
       "<div>\n",
       "<style scoped>\n",
       "    .dataframe tbody tr th:only-of-type {\n",
       "        vertical-align: middle;\n",
       "    }\n",
       "\n",
       "    .dataframe tbody tr th {\n",
       "        vertical-align: top;\n",
       "    }\n",
       "\n",
       "    .dataframe thead th {\n",
       "        text-align: right;\n",
       "    }\n",
       "</style>\n",
       "<table border=\"1\" class=\"dataframe\">\n",
       "  <thead>\n",
       "    <tr style=\"text-align: right;\">\n",
       "      <th></th>\n",
       "      <th>label</th>\n",
       "      <th>response</th>\n",
       "      <th>context</th>\n",
       "    </tr>\n",
       "  </thead>\n",
       "  <tbody>\n",
       "    <tr>\n",
       "      <th>0</th>\n",
       "      <td>SARCASM</td>\n",
       "      <td>i dont get this  obviously you do care or y...</td>\n",
       "      <td>a minor child deserves privacy and should be k...</td>\n",
       "    </tr>\n",
       "    <tr>\n",
       "      <th>1</th>\n",
       "      <td>SARCASM</td>\n",
       "      <td>trying to protest about  talking about him a...</td>\n",
       "      <td>why is he a loser  hes just a press secretar...</td>\n",
       "    </tr>\n",
       "    <tr>\n",
       "      <th>2</th>\n",
       "      <td>SARCASM</td>\n",
       "      <td>he makes an insane about of money from the ...</td>\n",
       "      <td>donald j  trump is guilty as charged  the evid...</td>\n",
       "    </tr>\n",
       "    <tr>\n",
       "      <th>3</th>\n",
       "      <td>SARCASM</td>\n",
       "      <td>meanwhile trump wont even release his sat sc...</td>\n",
       "      <td>jamie raskin tanked doug collins  collins look...</td>\n",
       "    </tr>\n",
       "    <tr>\n",
       "      <th>4</th>\n",
       "      <td>SARCASM</td>\n",
       "      <td>pretty sure the antilincoln crowd claimed th...</td>\n",
       "      <td>man  y  all gone  both sides  the apocalypse o...</td>\n",
       "    </tr>\n",
       "  </tbody>\n",
       "</table>\n",
       "</div>"
      ],
      "text/plain": [
       "     label                                           response  \\\n",
       "0  SARCASM     i dont get this  obviously you do care or y...   \n",
       "1  SARCASM    trying to protest about  talking about him a...   \n",
       "2  SARCASM     he makes an insane about of money from the ...   \n",
       "3  SARCASM    meanwhile trump wont even release his sat sc...   \n",
       "4  SARCASM    pretty sure the antilincoln crowd claimed th...   \n",
       "\n",
       "                                             context  \n",
       "0  a minor child deserves privacy and should be k...  \n",
       "1    why is he a loser  hes just a press secretar...  \n",
       "2  donald j  trump is guilty as charged  the evid...  \n",
       "3  jamie raskin tanked doug collins  collins look...  \n",
       "4  man  y  all gone  both sides  the apocalypse o...  "
      ]
     },
     "execution_count": 7,
     "metadata": {},
     "output_type": "execute_result"
    }
   ],
   "source": [
    "df['response']=df['response'].str.replace('@USER', \"\") \n",
    "df['response']=df['response'].str.replace('\\d+', '')\n",
    "df['response']=df['response'].str.lower()\n",
    "df['response']=df['response'].str.replace('[^\\w\\s]','')\n",
    "\n",
    "df['context']=df['context'].apply(lambda x: ','.join(map(str, x)))\n",
    "df['context']=df['context'].str.replace('@USER', \"\") \n",
    "df['context']=df['context'].str.lower()\n",
    "df['context']=df['context'].str.replace('[^\\w\\s]','')\n",
    "df['context']=df['context'].str.replace('\\d+', '')\n",
    "\n",
    "df.head()"
   ]
  },
  {
   "cell_type": "code",
   "execution_count": 8,
   "metadata": {
    "id": "WhyKRlcIlc4k"
   },
   "outputs": [],
   "source": [
    "X=df['response'].values\n",
    "y=df['label'].values"
   ]
  },
  {
   "cell_type": "code",
   "execution_count": 9,
   "metadata": {
    "colab": {
     "base_uri": "https://localhost:8080/"
    },
    "id": "ZigEqYz8oe7I",
    "outputId": "58feca84-be5f-418b-fa94-7fa8fd3bb70b"
   },
   "outputs": [
    {
     "data": {
      "text/plain": [
       "array([1, 1, 1, ..., 0, 0, 0], dtype=uint8)"
      ]
     },
     "execution_count": 9,
     "metadata": {},
     "output_type": "execute_result"
    }
   ],
   "source": [
    "y = pd.get_dummies(df['label'])\n",
    "y = y.iloc[:,1].values\n",
    "y"
   ]
  },
  {
   "cell_type": "code",
   "execution_count": 10,
   "metadata": {
    "id": "3TSttLBAmf9e"
   },
   "outputs": [],
   "source": [
    "from sklearn.model_selection import train_test_split\n",
    "X_train, X_test, y_train, y_test = train_test_split(X, y, test_size=0.2, random_state=0)"
   ]
  },
  {
   "cell_type": "code",
   "execution_count": 11,
   "metadata": {
    "id": "8mk5E46vj62F"
   },
   "outputs": [],
   "source": [
    "vocab_size=10000\n",
    "embedding_dim=16\n",
    "max_length=32\n",
    "trunc_type='post'\n",
    "padding_type='post'\n",
    "oov_tok='<oov>'"
   ]
  },
  {
   "cell_type": "code",
   "execution_count": null,
   "metadata": {},
   "outputs": [],
   "source": []
  },
  {
   "cell_type": "code",
   "execution_count": 13,
   "metadata": {
    "id": "mtjLq5klmoqt"
   },
   "outputs": [],
   "source": [
    "from tensorflow.keras.preprocessing.text import Tokenizer\n",
    "from tensorflow.keras.preprocessing.sequence import pad_sequences\n",
    "\n",
    "tokenizer= Tokenizer(num_words=vocab_size, oov_token=oov_tok)\n",
    "tokenizer.fit_on_texts(X_train)\n",
    "\n",
    "word_index=tokenizer.word_index\n",
    "\n",
    "training_sequences=tokenizer.texts_to_sequences(X_train)\n",
    "training_padded=pad_sequences(training_sequences, maxlen=max_length, padding=padding_type, truncating=trunc_type)\n",
    "\n",
    "testing_sequences=tokenizer.texts_to_sequences(X_test)\n",
    "testing_padded=pad_sequences(testing_sequences, maxlen=max_length, padding=padding_type, truncating=trunc_type)"
   ]
  },
  {
   "cell_type": "code",
   "execution_count": 14,
   "metadata": {
    "colab": {
     "base_uri": "https://localhost:8080/"
    },
    "id": "79-S9XjWmsAJ",
    "outputId": "8636e216-6d18-4536-e951-aba1e9ce11e4"
   },
   "outputs": [
    {
     "data": {
      "text/plain": [
       "array([[  89, 3205,   22, ...,    0,    0,    0],\n",
       "       [  26, 2422,    8, ...,    0,    0,    0],\n",
       "       [   2, 4930,  209, ...,    0,    0,    0],\n",
       "       ...,\n",
       "       [ 529,  246,   84, ...,    0,    0,    0],\n",
       "       [  25,  315,    9, ...,    0,    0,    0],\n",
       "       [ 984,   19,   84, ...,    0,    0,    0]], dtype=int32)"
      ]
     },
     "execution_count": 14,
     "metadata": {},
     "output_type": "execute_result"
    }
   ],
   "source": [
    "training_padded"
   ]
  },
  {
   "cell_type": "code",
   "execution_count": 15,
   "metadata": {
    "colab": {
     "base_uri": "https://localhost:8080/"
    },
    "id": "VUrAgZlim2Jd",
    "outputId": "deb3b76a-9319-45ab-af78-d5fb04b183b5"
   },
   "outputs": [
    {
     "name": "stdout",
     "output_type": "stream",
     "text": [
      "(4000, 32)\n",
      "(1000, 32)\n"
     ]
    }
   ],
   "source": [
    "print(training_padded.shape)\n",
    "print(testing_padded.shape)"
   ]
  },
  {
   "cell_type": "code",
   "execution_count": 16,
   "metadata": {
    "id": "5uJUX5g7ngFQ"
   },
   "outputs": [],
   "source": [
    "import tensorflow as tf\n",
    "from tensorflow.keras.models import Sequential\n",
    "from tensorflow.keras.layers import Dense, Dropout, Embedding, Flatten\n",
    "from sklearn.metrics import f1_score\n",
    "from sklearn.metrics import confusion_matrix"
   ]
  },
  {
   "cell_type": "code",
   "execution_count": 17,
   "metadata": {
    "id": "lhBOvc6XiB11"
   },
   "outputs": [],
   "source": [
    "from keras.models import Sequential\n",
    "from keras.models import Model, load_model\n",
    "from keras.layers import Input, Dense, Embedding, Conv1D, MaxPooling1D, Flatten\n",
    "from keras import optimizers"
   ]
  },
  {
   "cell_type": "code",
   "execution_count": 18,
   "metadata": {
    "colab": {
     "base_uri": "https://localhost:8080/"
    },
    "id": "Xg_VHdE-h6X8",
    "outputId": "7c3d0650-f676-47ae-ed70-3856bf81bcd0"
   },
   "outputs": [
    {
     "name": "stdout",
     "output_type": "stream",
     "text": [
      "Model: \"model\"\n",
      "_________________________________________________________________\n",
      "Layer (type)                 Output Shape              Param #   \n",
      "=================================================================\n",
      "main_input (InputLayer)      [(None, 32)]              0         \n",
      "_________________________________________________________________\n",
      "embedding (Embedding)        (None, 32, 16)            160000    \n",
      "_________________________________________________________________\n",
      "conv1d (Conv1D)              (None, 29, 50)            3250      \n",
      "_________________________________________________________________\n",
      "max_pooling1d (MaxPooling1D) (None, 14, 50)            0         \n",
      "_________________________________________________________________\n",
      "conv1d_1 (Conv1D)            (None, 12, 100)           15100     \n",
      "_________________________________________________________________\n",
      "max_pooling1d_1 (MaxPooling1 (None, 6, 100)            0         \n",
      "_________________________________________________________________\n",
      "flatten (Flatten)            (None, 600)               0         \n",
      "_________________________________________________________________\n",
      "fully_connected (Dense)      (None, 100)               60100     \n",
      "_________________________________________________________________\n",
      "dense (Dense)                (None, 1)                 101       \n",
      "=================================================================\n",
      "Total params: 238,551\n",
      "Trainable params: 238,551\n",
      "Non-trainable params: 0\n",
      "_________________________________________________________________\n",
      "None\n"
     ]
    }
   ],
   "source": [
    "input_data = Input(shape=(max_length,), name='main_input')\n",
    "embedding_layer = Embedding(vocab_size, embedding_dim, input_length=max_length)(input_data)\n",
    "conv_1 = Conv1D(filters=50, kernel_size=4, activation='relu')(embedding_layer)\n",
    "max_1 = MaxPooling1D(pool_size=2)(conv_1)\n",
    "conv_2 = Conv1D(filters=100, kernel_size=3, activation='relu')(max_1)\n",
    "max_2 = MaxPooling1D(pool_size=2)(conv_2)\n",
    "flatten = Flatten()(max_2)\n",
    "dense = Dense(100, activation='relu', name='fully_connected')(flatten)\n",
    "out = Dense(1, activation='sigmoid')(dense)\n",
    "\n",
    "model_01 = Model(inputs=[input_data], outputs=[out])\n",
    "\n",
    "print(model_01.summary())"
   ]
  },
  {
   "cell_type": "code",
   "execution_count": 20,
   "metadata": {
    "colab": {
     "base_uri": "https://localhost:8080/"
    },
    "id": "BMnOVdcGq0l1",
    "outputId": "3e0a542f-fa67-4fff-aecd-a9a9ed994dcd"
   },
   "outputs": [
    {
     "name": "stdout",
     "output_type": "stream",
     "text": [
      "Epoch 1/100\n",
      "16/16 [==============================] - 14s 37ms/step - loss: 0.6874 - accuracy: 0.5502 - val_loss: 0.6678 - val_accuracy: 0.5910\n",
      "Epoch 2/100\n",
      "16/16 [==============================] - 0s 11ms/step - loss: 0.6560 - accuracy: 0.6144 - val_loss: 0.6627 - val_accuracy: 0.6060\n",
      "Epoch 3/100\n",
      "16/16 [==============================] - 0s 11ms/step - loss: 0.6161 - accuracy: 0.6549 - val_loss: 0.6227 - val_accuracy: 0.6400\n",
      "Epoch 4/100\n",
      "16/16 [==============================] - 0s 12ms/step - loss: 0.4653 - accuracy: 0.7861 - val_loss: 0.5930 - val_accuracy: 0.7130\n",
      "Epoch 5/100\n",
      "16/16 [==============================] - 0s 11ms/step - loss: 0.2516 - accuracy: 0.8997 - val_loss: 0.6737 - val_accuracy: 0.7110\n",
      "Epoch 6/100\n",
      "16/16 [==============================] - 0s 13ms/step - loss: 0.1284 - accuracy: 0.9538 - val_loss: 0.7788 - val_accuracy: 0.7090\n",
      "Epoch 7/100\n",
      "16/16 [==============================] - 0s 12ms/step - loss: 0.0608 - accuracy: 0.9835 - val_loss: 0.9413 - val_accuracy: 0.7200\n",
      "Epoch 8/100\n",
      "16/16 [==============================] - 0s 14ms/step - loss: 0.0226 - accuracy: 0.9968 - val_loss: 1.1186 - val_accuracy: 0.6940\n",
      "Epoch 9/100\n",
      "16/16 [==============================] - 0s 13ms/step - loss: 0.0107 - accuracy: 0.9986 - val_loss: 1.2421 - val_accuracy: 0.7040\n",
      "Epoch 10/100\n",
      "16/16 [==============================] - 0s 13ms/step - loss: 0.0064 - accuracy: 0.9995 - val_loss: 1.3448 - val_accuracy: 0.7030\n",
      "Epoch 11/100\n",
      "16/16 [==============================] - 0s 14ms/step - loss: 0.0031 - accuracy: 0.9999 - val_loss: 1.4109 - val_accuracy: 0.6960\n",
      "Epoch 12/100\n",
      "16/16 [==============================] - 0s 15ms/step - loss: 0.0025 - accuracy: 0.9998 - val_loss: 1.4702 - val_accuracy: 0.6970\n",
      "Epoch 13/100\n",
      "16/16 [==============================] - 0s 13ms/step - loss: 0.0015 - accuracy: 0.9999 - val_loss: 1.5060 - val_accuracy: 0.6990\n",
      "Epoch 14/100\n",
      "16/16 [==============================] - 0s 13ms/step - loss: 9.9963e-04 - accuracy: 1.0000 - val_loss: 1.5510 - val_accuracy: 0.6910\n",
      "Epoch 15/100\n",
      "16/16 [==============================] - 0s 14ms/step - loss: 0.0010 - accuracy: 0.9999 - val_loss: 1.5780 - val_accuracy: 0.6950\n",
      "Epoch 16/100\n",
      "16/16 [==============================] - 0s 14ms/step - loss: 0.0012 - accuracy: 0.9998 - val_loss: 1.6282 - val_accuracy: 0.6920\n",
      "Epoch 17/100\n",
      "16/16 [==============================] - 0s 12ms/step - loss: 0.0011 - accuracy: 0.9994 - val_loss: 1.6319 - val_accuracy: 0.6980\n",
      "Epoch 18/100\n",
      "16/16 [==============================] - 0s 12ms/step - loss: 6.5126e-04 - accuracy: 1.0000 - val_loss: 1.6746 - val_accuracy: 0.6940\n",
      "Epoch 19/100\n",
      "16/16 [==============================] - 0s 13ms/step - loss: 0.0015 - accuracy: 0.9999 - val_loss: 1.6875 - val_accuracy: 0.6950\n",
      "Epoch 20/100\n",
      "16/16 [==============================] - 0s 11ms/step - loss: 8.7991e-04 - accuracy: 0.9999 - val_loss: 1.6981 - val_accuracy: 0.6990\n",
      "Epoch 21/100\n",
      "16/16 [==============================] - 0s 12ms/step - loss: 0.0012 - accuracy: 0.9998 - val_loss: 1.7547 - val_accuracy: 0.6900\n",
      "Epoch 22/100\n",
      "16/16 [==============================] - 0s 13ms/step - loss: 0.0010 - accuracy: 0.9995 - val_loss: 1.7375 - val_accuracy: 0.6970\n",
      "Epoch 23/100\n",
      "16/16 [==============================] - 0s 13ms/step - loss: 0.0012 - accuracy: 0.9996 - val_loss: 1.7536 - val_accuracy: 0.6960\n",
      "Epoch 24/100\n",
      "16/16 [==============================] - 0s 12ms/step - loss: 5.5941e-04 - accuracy: 1.0000 - val_loss: 1.7682 - val_accuracy: 0.6940\n",
      "Epoch 25/100\n",
      "16/16 [==============================] - 0s 11ms/step - loss: 0.0010 - accuracy: 0.9997 - val_loss: 1.7835 - val_accuracy: 0.6960\n",
      "Epoch 26/100\n",
      "16/16 [==============================] - 0s 13ms/step - loss: 8.8489e-04 - accuracy: 0.9993 - val_loss: 1.7954 - val_accuracy: 0.6950\n",
      "Epoch 27/100\n",
      "16/16 [==============================] - 0s 14ms/step - loss: 0.0016 - accuracy: 0.9996 - val_loss: 1.8366 - val_accuracy: 0.6860\n",
      "Epoch 28/100\n",
      "16/16 [==============================] - 0s 13ms/step - loss: 3.4626e-04 - accuracy: 1.0000 - val_loss: 1.8269 - val_accuracy: 0.6940\n",
      "Epoch 29/100\n",
      "16/16 [==============================] - 0s 13ms/step - loss: 0.0015 - accuracy: 0.9998 - val_loss: 1.8814 - val_accuracy: 0.6880\n",
      "Epoch 30/100\n",
      "16/16 [==============================] - 0s 12ms/step - loss: 0.0020 - accuracy: 0.9994 - val_loss: 1.8537 - val_accuracy: 0.6940\n",
      "Epoch 31/100\n",
      "16/16 [==============================] - 0s 13ms/step - loss: 5.6428e-04 - accuracy: 0.9999 - val_loss: 1.8920 - val_accuracy: 0.6920\n",
      "Epoch 32/100\n",
      "16/16 [==============================] - 0s 13ms/step - loss: 0.0012 - accuracy: 0.9998 - val_loss: 1.9181 - val_accuracy: 0.6910\n",
      "Epoch 33/100\n",
      "16/16 [==============================] - 0s 14ms/step - loss: 8.3567e-04 - accuracy: 0.9996 - val_loss: 1.8969 - val_accuracy: 0.6920\n",
      "Epoch 34/100\n",
      "16/16 [==============================] - 0s 14ms/step - loss: 0.0015 - accuracy: 0.9992 - val_loss: 1.8899 - val_accuracy: 0.6940\n",
      "Epoch 35/100\n",
      "16/16 [==============================] - 0s 12ms/step - loss: 9.9491e-04 - accuracy: 0.9999 - val_loss: 1.9091 - val_accuracy: 0.6880\n",
      "Epoch 36/100\n",
      "16/16 [==============================] - 0s 12ms/step - loss: 5.6010e-04 - accuracy: 0.9999 - val_loss: 1.9314 - val_accuracy: 0.6960\n",
      "Epoch 37/100\n",
      "16/16 [==============================] - 0s 11ms/step - loss: 5.3153e-04 - accuracy: 0.9999 - val_loss: 1.9135 - val_accuracy: 0.6960\n",
      "Epoch 38/100\n",
      "16/16 [==============================] - 0s 12ms/step - loss: 4.4129e-04 - accuracy: 0.9999 - val_loss: 1.9288 - val_accuracy: 0.6930\n",
      "Epoch 39/100\n",
      "16/16 [==============================] - 0s 12ms/step - loss: 0.0014 - accuracy: 0.9998 - val_loss: 1.9299 - val_accuracy: 0.6930\n",
      "Epoch 40/100\n",
      "16/16 [==============================] - 0s 14ms/step - loss: 0.0017 - accuracy: 0.9989 - val_loss: 1.9369 - val_accuracy: 0.6910\n",
      "Epoch 41/100\n",
      "16/16 [==============================] - 0s 14ms/step - loss: 2.5749e-04 - accuracy: 0.9999 - val_loss: 1.9391 - val_accuracy: 0.6910\n",
      "Epoch 42/100\n",
      "16/16 [==============================] - 0s 14ms/step - loss: 6.1920e-04 - accuracy: 0.9999 - val_loss: 1.9510 - val_accuracy: 0.6900\n",
      "Epoch 43/100\n",
      "16/16 [==============================] - 0s 12ms/step - loss: 7.8318e-04 - accuracy: 0.9995 - val_loss: 1.9635 - val_accuracy: 0.6920\n",
      "Epoch 44/100\n",
      "16/16 [==============================] - 0s 12ms/step - loss: 6.5373e-04 - accuracy: 0.9997 - val_loss: 1.9627 - val_accuracy: 0.6930\n",
      "Epoch 45/100\n",
      "16/16 [==============================] - 0s 12ms/step - loss: 3.6300e-04 - accuracy: 0.9999 - val_loss: 1.9781 - val_accuracy: 0.6920\n",
      "Epoch 46/100\n",
      "16/16 [==============================] - 0s 13ms/step - loss: 0.0018 - accuracy: 0.9986 - val_loss: 1.9978 - val_accuracy: 0.6920\n",
      "Epoch 47/100\n",
      "16/16 [==============================] - 0s 14ms/step - loss: 4.6165e-04 - accuracy: 0.9999 - val_loss: 2.0220 - val_accuracy: 0.6960\n",
      "Epoch 48/100\n",
      "16/16 [==============================] - 0s 15ms/step - loss: 7.0091e-04 - accuracy: 1.0000 - val_loss: 1.9984 - val_accuracy: 0.6910\n",
      "Epoch 49/100\n",
      "16/16 [==============================] - 0s 14ms/step - loss: 4.7166e-04 - accuracy: 0.9998 - val_loss: 2.0197 - val_accuracy: 0.6950\n",
      "Epoch 50/100\n",
      "16/16 [==============================] - 0s 12ms/step - loss: 4.1621e-04 - accuracy: 0.9998 - val_loss: 2.0017 - val_accuracy: 0.6950\n",
      "Epoch 51/100\n",
      "16/16 [==============================] - 0s 13ms/step - loss: 4.7764e-04 - accuracy: 1.0000 - val_loss: 2.0121 - val_accuracy: 0.6870\n",
      "Epoch 52/100\n",
      "16/16 [==============================] - 0s 12ms/step - loss: 0.0036 - accuracy: 0.9991 - val_loss: 1.9877 - val_accuracy: 0.6920\n",
      "Epoch 53/100\n",
      "16/16 [==============================] - 0s 11ms/step - loss: 0.0015 - accuracy: 0.9998 - val_loss: 2.0817 - val_accuracy: 0.6810\n",
      "Epoch 54/100\n",
      "16/16 [==============================] - 0s 11ms/step - loss: 3.1130e-04 - accuracy: 0.9998 - val_loss: 1.9813 - val_accuracy: 0.6910\n",
      "Epoch 55/100\n",
      "16/16 [==============================] - 0s 11ms/step - loss: 3.1090e-04 - accuracy: 1.0000 - val_loss: 1.9897 - val_accuracy: 0.6920\n",
      "Epoch 56/100\n",
      "16/16 [==============================] - 0s 12ms/step - loss: 5.9843e-04 - accuracy: 0.9997 - val_loss: 1.9932 - val_accuracy: 0.6940\n",
      "Epoch 57/100\n"
     ]
    },
    {
     "name": "stdout",
     "output_type": "stream",
     "text": [
      "16/16 [==============================] - 0s 12ms/step - loss: 3.6871e-04 - accuracy: 0.9998 - val_loss: 2.0152 - val_accuracy: 0.6880\n",
      "Epoch 58/100\n",
      "16/16 [==============================] - 0s 10ms/step - loss: 0.0012 - accuracy: 0.9993 - val_loss: 2.0094 - val_accuracy: 0.6880\n",
      "Epoch 59/100\n",
      "16/16 [==============================] - 0s 10ms/step - loss: 6.8020e-04 - accuracy: 0.9998 - val_loss: 2.0007 - val_accuracy: 0.6910\n",
      "Epoch 60/100\n",
      "16/16 [==============================] - 0s 11ms/step - loss: 9.8794e-04 - accuracy: 0.9994 - val_loss: 2.0068 - val_accuracy: 0.6870\n",
      "Epoch 61/100\n",
      "16/16 [==============================] - 0s 11ms/step - loss: 2.9243e-04 - accuracy: 1.0000 - val_loss: 2.0183 - val_accuracy: 0.6870\n",
      "Epoch 62/100\n",
      "16/16 [==============================] - 0s 11ms/step - loss: 2.5418e-04 - accuracy: 0.9999 - val_loss: 2.0111 - val_accuracy: 0.6890\n",
      "Epoch 63/100\n",
      "16/16 [==============================] - 0s 10ms/step - loss: 2.3929e-04 - accuracy: 1.0000 - val_loss: 2.0324 - val_accuracy: 0.6890\n",
      "Epoch 64/100\n",
      "16/16 [==============================] - 0s 11ms/step - loss: 4.6595e-04 - accuracy: 0.9999 - val_loss: 2.0093 - val_accuracy: 0.6890\n",
      "Epoch 65/100\n",
      "16/16 [==============================] - 0s 11ms/step - loss: 3.0839e-04 - accuracy: 0.9998 - val_loss: 2.0120 - val_accuracy: 0.6900\n",
      "Epoch 66/100\n",
      "16/16 [==============================] - 0s 12ms/step - loss: 9.4863e-04 - accuracy: 0.9998 - val_loss: 2.0553 - val_accuracy: 0.6900\n",
      "Epoch 67/100\n",
      "16/16 [==============================] - 0s 12ms/step - loss: 2.6400e-04 - accuracy: 1.0000 - val_loss: 2.0240 - val_accuracy: 0.6870\n",
      "Epoch 68/100\n",
      "16/16 [==============================] - 0s 12ms/step - loss: 5.2394e-04 - accuracy: 0.9998 - val_loss: 2.0178 - val_accuracy: 0.6880\n",
      "Epoch 69/100\n",
      "16/16 [==============================] - 0s 11ms/step - loss: 5.7141e-04 - accuracy: 0.9997 - val_loss: 2.0188 - val_accuracy: 0.6890\n",
      "Epoch 70/100\n",
      "16/16 [==============================] - 0s 11ms/step - loss: 3.1175e-04 - accuracy: 0.9999 - val_loss: 2.0175 - val_accuracy: 0.6890\n",
      "Epoch 71/100\n",
      "16/16 [==============================] - 0s 10ms/step - loss: 6.0717e-04 - accuracy: 0.9998 - val_loss: 2.0111 - val_accuracy: 0.6910\n",
      "Epoch 72/100\n",
      "16/16 [==============================] - 0s 10ms/step - loss: 7.6923e-04 - accuracy: 0.9996 - val_loss: 2.0115 - val_accuracy: 0.6860\n",
      "Epoch 73/100\n",
      "16/16 [==============================] - 0s 10ms/step - loss: 0.0011 - accuracy: 0.9986 - val_loss: 2.0270 - val_accuracy: 0.6860\n",
      "Epoch 74/100\n",
      "16/16 [==============================] - 0s 11ms/step - loss: 5.2691e-04 - accuracy: 0.9997 - val_loss: 2.0293 - val_accuracy: 0.6910\n",
      "Epoch 75/100\n",
      "16/16 [==============================] - 0s 11ms/step - loss: 7.2269e-04 - accuracy: 0.9996 - val_loss: 2.1074 - val_accuracy: 0.6840\n",
      "Epoch 76/100\n",
      "16/16 [==============================] - 0s 11ms/step - loss: 0.0024 - accuracy: 0.9996 - val_loss: 2.0776 - val_accuracy: 0.6920\n",
      "Epoch 77/100\n",
      "16/16 [==============================] - 0s 12ms/step - loss: 6.7461e-04 - accuracy: 0.9998 - val_loss: 2.0936 - val_accuracy: 0.6870\n",
      "Epoch 78/100\n",
      "16/16 [==============================] - 0s 11ms/step - loss: 3.7949e-04 - accuracy: 0.9999 - val_loss: 2.0407 - val_accuracy: 0.6890\n",
      "Epoch 79/100\n",
      "16/16 [==============================] - 0s 11ms/step - loss: 1.4774e-04 - accuracy: 1.0000 - val_loss: 2.0482 - val_accuracy: 0.6890\n",
      "Epoch 80/100\n",
      "16/16 [==============================] - 0s 11ms/step - loss: 5.8923e-04 - accuracy: 0.9998 - val_loss: 2.0898 - val_accuracy: 0.6890\n",
      "Epoch 81/100\n",
      "16/16 [==============================] - 0s 12ms/step - loss: 0.0017 - accuracy: 0.9994 - val_loss: 2.0585 - val_accuracy: 0.6860\n",
      "Epoch 82/100\n",
      "16/16 [==============================] - 0s 12ms/step - loss: 8.1373e-04 - accuracy: 0.9997 - val_loss: 2.1129 - val_accuracy: 0.6880\n",
      "Epoch 83/100\n",
      "16/16 [==============================] - 0s 12ms/step - loss: 8.7324e-04 - accuracy: 0.9998 - val_loss: 2.0672 - val_accuracy: 0.6900\n",
      "Epoch 84/100\n",
      "16/16 [==============================] - 0s 11ms/step - loss: 6.1575e-04 - accuracy: 0.9999 - val_loss: 2.0829 - val_accuracy: 0.6910\n",
      "Epoch 85/100\n",
      "16/16 [==============================] - 0s 11ms/step - loss: 0.0010 - accuracy: 0.9999 - val_loss: 2.0588 - val_accuracy: 0.6850\n",
      "Epoch 86/100\n",
      "16/16 [==============================] - 0s 12ms/step - loss: 5.4559e-04 - accuracy: 0.9999 - val_loss: 2.0950 - val_accuracy: 0.6950\n",
      "Epoch 87/100\n",
      "16/16 [==============================] - 0s 12ms/step - loss: 0.0014 - accuracy: 0.9995 - val_loss: 2.0661 - val_accuracy: 0.6920\n",
      "Epoch 88/100\n",
      "16/16 [==============================] - 0s 11ms/step - loss: 1.8528e-04 - accuracy: 0.9999 - val_loss: 2.0670 - val_accuracy: 0.6910\n",
      "Epoch 89/100\n",
      "16/16 [==============================] - 0s 11ms/step - loss: 5.6340e-04 - accuracy: 0.9994 - val_loss: 2.1187 - val_accuracy: 0.6870\n",
      "Epoch 90/100\n",
      "16/16 [==============================] - 0s 11ms/step - loss: 2.2999e-04 - accuracy: 0.9999 - val_loss: 2.0866 - val_accuracy: 0.6840\n",
      "Epoch 91/100\n",
      "16/16 [==============================] - 0s 11ms/step - loss: 3.6911e-04 - accuracy: 0.9999 - val_loss: 2.0863 - val_accuracy: 0.6800\n",
      "Epoch 92/100\n",
      "16/16 [==============================] - 0s 12ms/step - loss: 3.3305e-04 - accuracy: 0.9998 - val_loss: 2.0856 - val_accuracy: 0.6930\n",
      "Epoch 93/100\n",
      "16/16 [==============================] - 0s 11ms/step - loss: 7.8161e-04 - accuracy: 0.9998 - val_loss: 2.0709 - val_accuracy: 0.6880\n",
      "Epoch 94/100\n",
      "16/16 [==============================] - 0s 11ms/step - loss: 7.4207e-04 - accuracy: 0.9998 - val_loss: 2.0760 - val_accuracy: 0.6910\n",
      "Epoch 95/100\n",
      "16/16 [==============================] - 0s 11ms/step - loss: 6.3654e-04 - accuracy: 0.9997 - val_loss: 2.0754 - val_accuracy: 0.6800\n",
      "Epoch 96/100\n",
      "16/16 [==============================] - 0s 11ms/step - loss: 1.8949e-04 - accuracy: 1.0000 - val_loss: 2.0846 - val_accuracy: 0.6830\n",
      "Epoch 97/100\n",
      "16/16 [==============================] - 0s 13ms/step - loss: 4.2231e-04 - accuracy: 0.9997 - val_loss: 2.0999 - val_accuracy: 0.6910\n",
      "Epoch 98/100\n",
      "16/16 [==============================] - 0s 14ms/step - loss: 7.0279e-04 - accuracy: 0.9997 - val_loss: 2.0932 - val_accuracy: 0.6800\n",
      "Epoch 99/100\n",
      "16/16 [==============================] - 0s 12ms/step - loss: 2.7703e-04 - accuracy: 0.9999 - val_loss: 2.1149 - val_accuracy: 0.6890\n",
      "Epoch 100/100\n",
      "16/16 [==============================] - 0s 11ms/step - loss: 5.7225e-04 - accuracy: 0.9997 - val_loss: 2.1050 - val_accuracy: 0.6880\n"
     ]
    },
    {
     "data": {
      "text/plain": [
       "<keras.callbacks.History at 0x7fe05d7e8220>"
      ]
     },
     "execution_count": 20,
     "metadata": {},
     "output_type": "execute_result"
    }
   ],
   "source": [
    "#opt = tf.keras.optimizers.Adam(learning_rate=0.0001)\n",
    "model_01.compile(loss='binary_crossentropy', optimizer= 'adam', metrics=['accuracy'])\n",
    "\n",
    "model_01.fit(x=training_padded, y=y_train, batch_size=256, epochs=100, validation_data=(testing_padded, y_test), verbose=1)"
   ]
  },
  {
   "cell_type": "code",
   "execution_count": 21,
   "metadata": {
    "colab": {
     "base_uri": "https://localhost:8080/",
     "height": 450
    },
    "id": "pPuxYm6nw78Z",
    "outputId": "fc3eb64e-f85f-4a8f-82b7-327c18e3efd2"
   },
   "outputs": [
    {
     "data": {
      "text/html": [
       "<div>\n",
       "<style scoped>\n",
       "    .dataframe tbody tr th:only-of-type {\n",
       "        vertical-align: middle;\n",
       "    }\n",
       "\n",
       "    .dataframe tbody tr th {\n",
       "        vertical-align: top;\n",
       "    }\n",
       "\n",
       "    .dataframe thead th {\n",
       "        text-align: right;\n",
       "    }\n",
       "</style>\n",
       "<table border=\"1\" class=\"dataframe\">\n",
       "  <thead>\n",
       "    <tr style=\"text-align: right;\">\n",
       "      <th></th>\n",
       "      <th>loss</th>\n",
       "      <th>accuracy</th>\n",
       "      <th>val_loss</th>\n",
       "      <th>val_accuracy</th>\n",
       "      <th>Epoch</th>\n",
       "    </tr>\n",
       "    <tr>\n",
       "      <th>Epoch</th>\n",
       "      <th></th>\n",
       "      <th></th>\n",
       "      <th></th>\n",
       "      <th></th>\n",
       "      <th></th>\n",
       "    </tr>\n",
       "  </thead>\n",
       "  <tbody>\n",
       "    <tr>\n",
       "      <th>1</th>\n",
       "      <td>0.681501</td>\n",
       "      <td>0.58200</td>\n",
       "      <td>0.667847</td>\n",
       "      <td>0.591</td>\n",
       "      <td>1</td>\n",
       "    </tr>\n",
       "    <tr>\n",
       "      <th>2</th>\n",
       "      <td>0.652133</td>\n",
       "      <td>0.62150</td>\n",
       "      <td>0.662727</td>\n",
       "      <td>0.606</td>\n",
       "      <td>2</td>\n",
       "    </tr>\n",
       "    <tr>\n",
       "      <th>3</th>\n",
       "      <td>0.595670</td>\n",
       "      <td>0.68200</td>\n",
       "      <td>0.622665</td>\n",
       "      <td>0.640</td>\n",
       "      <td>3</td>\n",
       "    </tr>\n",
       "    <tr>\n",
       "      <th>4</th>\n",
       "      <td>0.428868</td>\n",
       "      <td>0.80525</td>\n",
       "      <td>0.593027</td>\n",
       "      <td>0.713</td>\n",
       "      <td>4</td>\n",
       "    </tr>\n",
       "    <tr>\n",
       "      <th>5</th>\n",
       "      <td>0.235492</td>\n",
       "      <td>0.90575</td>\n",
       "      <td>0.673685</td>\n",
       "      <td>0.711</td>\n",
       "      <td>5</td>\n",
       "    </tr>\n",
       "    <tr>\n",
       "      <th>...</th>\n",
       "      <td>...</td>\n",
       "      <td>...</td>\n",
       "      <td>...</td>\n",
       "      <td>...</td>\n",
       "      <td>...</td>\n",
       "    </tr>\n",
       "    <tr>\n",
       "      <th>96</th>\n",
       "      <td>0.000701</td>\n",
       "      <td>0.99975</td>\n",
       "      <td>2.084598</td>\n",
       "      <td>0.683</td>\n",
       "      <td>96</td>\n",
       "    </tr>\n",
       "    <tr>\n",
       "      <th>97</th>\n",
       "      <td>0.000648</td>\n",
       "      <td>0.99950</td>\n",
       "      <td>2.099899</td>\n",
       "      <td>0.691</td>\n",
       "      <td>97</td>\n",
       "    </tr>\n",
       "    <tr>\n",
       "      <th>98</th>\n",
       "      <td>0.000521</td>\n",
       "      <td>0.99975</td>\n",
       "      <td>2.093203</td>\n",
       "      <td>0.680</td>\n",
       "      <td>98</td>\n",
       "    </tr>\n",
       "    <tr>\n",
       "      <th>99</th>\n",
       "      <td>0.000533</td>\n",
       "      <td>0.99975</td>\n",
       "      <td>2.114867</td>\n",
       "      <td>0.689</td>\n",
       "      <td>99</td>\n",
       "    </tr>\n",
       "    <tr>\n",
       "      <th>100</th>\n",
       "      <td>0.000709</td>\n",
       "      <td>0.99950</td>\n",
       "      <td>2.104966</td>\n",
       "      <td>0.688</td>\n",
       "      <td>100</td>\n",
       "    </tr>\n",
       "  </tbody>\n",
       "</table>\n",
       "<p>100 rows × 5 columns</p>\n",
       "</div>"
      ],
      "text/plain": [
       "           loss  accuracy  val_loss  val_accuracy  Epoch\n",
       "Epoch                                                   \n",
       "1      0.681501   0.58200  0.667847         0.591      1\n",
       "2      0.652133   0.62150  0.662727         0.606      2\n",
       "3      0.595670   0.68200  0.622665         0.640      3\n",
       "4      0.428868   0.80525  0.593027         0.713      4\n",
       "5      0.235492   0.90575  0.673685         0.711      5\n",
       "...         ...       ...       ...           ...    ...\n",
       "96     0.000701   0.99975  2.084598         0.683     96\n",
       "97     0.000648   0.99950  2.099899         0.691     97\n",
       "98     0.000521   0.99975  2.093203         0.680     98\n",
       "99     0.000533   0.99975  2.114867         0.689     99\n",
       "100    0.000709   0.99950  2.104966         0.688    100\n",
       "\n",
       "[100 rows x 5 columns]"
      ]
     },
     "execution_count": 21,
     "metadata": {},
     "output_type": "execute_result"
    }
   ],
   "source": [
    "df_m=pd.DataFrame(model_01.history.history)\n",
    "df_m['Epoch']=range(1,101)\n",
    "df_m.index=df_m['Epoch']\n",
    "df_m"
   ]
  },
  {
   "cell_type": "code",
   "execution_count": 22,
   "metadata": {
    "colab": {
     "base_uri": "https://localhost:8080/",
     "height": 295
    },
    "id": "U64Yw1gfzDgc",
    "outputId": "a48371d8-f74f-410e-f2df-bc5354ccb17c"
   },
   "outputs": [
    {
     "data": {
      "image/png": "[encoded data removed]",
      "text/plain": [
       "<Figure size 432x288 with 1 Axes>"
      ]
     },
     "metadata": {},
     "output_type": "display_data"
    }
   ],
   "source": [
    "#Loss Graph(Training and Validation)\n",
    "#fig= plt.figure(figsize=(15,10))\n",
    "plt.plot(df_m['loss'])\n",
    "plt.plot(df_m['val_loss'])\n",
    "plt.title('model loss')\n",
    "plt.ylabel('loss')\n",
    "plt.xlabel('epoch')\n",
    "plt.legend(['train_loss', 'val_loss'])\n",
    "plt.show()"
   ]
  },
  {
   "cell_type": "code",
   "execution_count": 23,
   "metadata": {
    "colab": {
     "base_uri": "https://localhost:8080/",
     "height": 295
    },
    "id": "oXIoYDOw0oEC",
    "outputId": "3ac60d17-e5b2-4117-e57f-188f944a12b4"
   },
   "outputs": [
    {
     "data": {
      "image/png": "[encoded data removed]",
      "text/plain": [
       "<Figure size 432x288 with 1 Axes>"
      ]
     },
     "metadata": {},
     "output_type": "display_data"
    }
   ],
   "source": [
    "#fig= plt.figure(figsize=(15,10))\n",
    "plt.plot(df_m['accuracy'])\n",
    "plt.plot(df_m['val_accuracy'])\n",
    "plt.title('model accuracy')\n",
    "plt.ylabel('accuracy')\n",
    "plt.xlabel('epoch')\n",
    "plt.legend(['train_acc', 'val_acc'])\n",
    "plt.show()"
   ]
  }
 ],
 "metadata": {
  "colab": {
   "name": "Sarcasm_Detection_using_CNN_twitter_dataset_v1.ipynb",
   "provenance": []
  },
  "kernelspec": {
   "display_name": "Python 3",
   "language": "python",
   "name": "python3"
  },
  "language_info": {
   "codemirror_mode": {
    "name": "ipython",
    "version": 3
   },
   "file_extension": ".py",
   "mimetype": "text/x-python",
   "name": "python",
   "nbconvert_exporter": "python",
   "pygments_lexer": "ipython3",
   "version": "3.9.1"
  }
 },
 "nbformat": 4,
 "nbformat_minor": 1
}
