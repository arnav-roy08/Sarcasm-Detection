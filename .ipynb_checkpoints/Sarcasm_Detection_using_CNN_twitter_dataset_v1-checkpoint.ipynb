{
 "cells": [
  {
   "cell_type": "code",
   "execution_count": 1,
   "metadata": {
    "id": "3CAvZH8liGpj"
   },
   "outputs": [],
   "source": [
    "import pandas as pd\n",
    "import numpy as np\n",
    "import matplotlib.pyplot as plt\n",
    "import seaborn as sns\n",
    "%matplotlib inline"
   ]
  },
  {
   "cell_type": "code",
   "execution_count": 4,
   "metadata": {
    "id": "4s2Plv4lh3Gk"
   },
   "outputs": [
    {
     "ename": "URLError",
     "evalue": "<urlopen error [SSL: CERTIFICATE_VERIFY_FAILED] certificate verify failed: unable to get local issuer certificate (_ssl.c:1123)>",
     "output_type": "error",
     "traceback": [
      "\u001b[0;31m---------------------------------------------------------------------------\u001b[0m",
      "\u001b[0;31mSSLCertVerificationError\u001b[0m                  Traceback (most recent call last)",
      "\u001b[0;32m/Library/Frameworks/Python.framework/Versions/3.9/lib/python3.9/urllib/request.py\u001b[0m in \u001b[0;36mdo_open\u001b[0;34m(self, http_class, req, **http_conn_args)\u001b[0m\n\u001b[1;32m   1341\u001b[0m             \u001b[0;32mtry\u001b[0m\u001b[0;34m:\u001b[0m\u001b[0;34m\u001b[0m\u001b[0;34m\u001b[0m\u001b[0m\n\u001b[0;32m-> 1342\u001b[0;31m                 h.request(req.get_method(), req.selector, req.data, headers,\n\u001b[0m\u001b[1;32m   1343\u001b[0m                           encode_chunked=req.has_header('Transfer-encoding'))\n",
      "\u001b[0;32m/Library/Frameworks/Python.framework/Versions/3.9/lib/python3.9/http/client.py\u001b[0m in \u001b[0;36mrequest\u001b[0;34m(self, method, url, body, headers, encode_chunked)\u001b[0m\n\u001b[1;32m   1254\u001b[0m         \u001b[0;34m\"\"\"Send a complete request to the server.\"\"\"\u001b[0m\u001b[0;34m\u001b[0m\u001b[0;34m\u001b[0m\u001b[0m\n\u001b[0;32m-> 1255\u001b[0;31m         \u001b[0mself\u001b[0m\u001b[0;34m.\u001b[0m\u001b[0m_send_request\u001b[0m\u001b[0;34m(\u001b[0m\u001b[0mmethod\u001b[0m\u001b[0;34m,\u001b[0m \u001b[0murl\u001b[0m\u001b[0;34m,\u001b[0m \u001b[0mbody\u001b[0m\u001b[0;34m,\u001b[0m \u001b[0mheaders\u001b[0m\u001b[0;34m,\u001b[0m \u001b[0mencode_chunked\u001b[0m\u001b[0;34m)\u001b[0m\u001b[0;34m\u001b[0m\u001b[0;34m\u001b[0m\u001b[0m\n\u001b[0m\u001b[1;32m   1256\u001b[0m \u001b[0;34m\u001b[0m\u001b[0m\n",
      "\u001b[0;32m/Library/Frameworks/Python.framework/Versions/3.9/lib/python3.9/http/client.py\u001b[0m in \u001b[0;36m_send_request\u001b[0;34m(self, method, url, body, headers, encode_chunked)\u001b[0m\n\u001b[1;32m   1300\u001b[0m             \u001b[0mbody\u001b[0m \u001b[0;34m=\u001b[0m \u001b[0m_encode\u001b[0m\u001b[0;34m(\u001b[0m\u001b[0mbody\u001b[0m\u001b[0;34m,\u001b[0m \u001b[0;34m'body'\u001b[0m\u001b[0;34m)\u001b[0m\u001b[0;34m\u001b[0m\u001b[0;34m\u001b[0m\u001b[0m\n\u001b[0;32m-> 1301\u001b[0;31m         \u001b[0mself\u001b[0m\u001b[0;34m.\u001b[0m\u001b[0mendheaders\u001b[0m\u001b[0;34m(\u001b[0m\u001b[0mbody\u001b[0m\u001b[0;34m,\u001b[0m \u001b[0mencode_chunked\u001b[0m\u001b[0;34m=\u001b[0m\u001b[0mencode_chunked\u001b[0m\u001b[0;34m)\u001b[0m\u001b[0;34m\u001b[0m\u001b[0;34m\u001b[0m\u001b[0m\n\u001b[0m\u001b[1;32m   1302\u001b[0m \u001b[0;34m\u001b[0m\u001b[0m\n",
      "\u001b[0;32m/Library/Frameworks/Python.framework/Versions/3.9/lib/python3.9/http/client.py\u001b[0m in \u001b[0;36mendheaders\u001b[0;34m(self, message_body, encode_chunked)\u001b[0m\n\u001b[1;32m   1249\u001b[0m             \u001b[0;32mraise\u001b[0m \u001b[0mCannotSendHeader\u001b[0m\u001b[0;34m(\u001b[0m\u001b[0;34m)\u001b[0m\u001b[0;34m\u001b[0m\u001b[0;34m\u001b[0m\u001b[0m\n\u001b[0;32m-> 1250\u001b[0;31m         \u001b[0mself\u001b[0m\u001b[0;34m.\u001b[0m\u001b[0m_send_output\u001b[0m\u001b[0;34m(\u001b[0m\u001b[0mmessage_body\u001b[0m\u001b[0;34m,\u001b[0m \u001b[0mencode_chunked\u001b[0m\u001b[0;34m=\u001b[0m\u001b[0mencode_chunked\u001b[0m\u001b[0;34m)\u001b[0m\u001b[0;34m\u001b[0m\u001b[0;34m\u001b[0m\u001b[0m\n\u001b[0m\u001b[1;32m   1251\u001b[0m \u001b[0;34m\u001b[0m\u001b[0m\n",
      "\u001b[0;32m/Library/Frameworks/Python.framework/Versions/3.9/lib/python3.9/http/client.py\u001b[0m in \u001b[0;36m_send_output\u001b[0;34m(self, message_body, encode_chunked)\u001b[0m\n\u001b[1;32m   1009\u001b[0m         \u001b[0;32mdel\u001b[0m \u001b[0mself\u001b[0m\u001b[0;34m.\u001b[0m\u001b[0m_buffer\u001b[0m\u001b[0;34m[\u001b[0m\u001b[0;34m:\u001b[0m\u001b[0;34m]\u001b[0m\u001b[0;34m\u001b[0m\u001b[0;34m\u001b[0m\u001b[0m\n\u001b[0;32m-> 1010\u001b[0;31m         \u001b[0mself\u001b[0m\u001b[0;34m.\u001b[0m\u001b[0msend\u001b[0m\u001b[0;34m(\u001b[0m\u001b[0mmsg\u001b[0m\u001b[0;34m)\u001b[0m\u001b[0;34m\u001b[0m\u001b[0;34m\u001b[0m\u001b[0m\n\u001b[0m\u001b[1;32m   1011\u001b[0m \u001b[0;34m\u001b[0m\u001b[0m\n",
      "\u001b[0;32m/Library/Frameworks/Python.framework/Versions/3.9/lib/python3.9/http/client.py\u001b[0m in \u001b[0;36msend\u001b[0;34m(self, data)\u001b[0m\n\u001b[1;32m    949\u001b[0m             \u001b[0;32mif\u001b[0m \u001b[0mself\u001b[0m\u001b[0;34m.\u001b[0m\u001b[0mauto_open\u001b[0m\u001b[0;34m:\u001b[0m\u001b[0;34m\u001b[0m\u001b[0;34m\u001b[0m\u001b[0m\n\u001b[0;32m--> 950\u001b[0;31m                 \u001b[0mself\u001b[0m\u001b[0;34m.\u001b[0m\u001b[0mconnect\u001b[0m\u001b[0;34m(\u001b[0m\u001b[0;34m)\u001b[0m\u001b[0;34m\u001b[0m\u001b[0;34m\u001b[0m\u001b[0m\n\u001b[0m\u001b[1;32m    951\u001b[0m             \u001b[0;32melse\u001b[0m\u001b[0;34m:\u001b[0m\u001b[0;34m\u001b[0m\u001b[0;34m\u001b[0m\u001b[0m\n",
      "\u001b[0;32m/Library/Frameworks/Python.framework/Versions/3.9/lib/python3.9/http/client.py\u001b[0m in \u001b[0;36mconnect\u001b[0;34m(self)\u001b[0m\n\u001b[1;32m   1423\u001b[0m \u001b[0;34m\u001b[0m\u001b[0m\n\u001b[0;32m-> 1424\u001b[0;31m             self.sock = self._context.wrap_socket(self.sock,\n\u001b[0m\u001b[1;32m   1425\u001b[0m                                                   server_hostname=server_hostname)\n",
      "\u001b[0;32m/Library/Frameworks/Python.framework/Versions/3.9/lib/python3.9/ssl.py\u001b[0m in \u001b[0;36mwrap_socket\u001b[0;34m(self, sock, server_side, do_handshake_on_connect, suppress_ragged_eofs, server_hostname, session)\u001b[0m\n\u001b[1;32m    499\u001b[0m         \u001b[0;31m# ctx._wrap_socket()\u001b[0m\u001b[0;34m\u001b[0m\u001b[0;34m\u001b[0m\u001b[0;34m\u001b[0m\u001b[0m\n\u001b[0;32m--> 500\u001b[0;31m         return self.sslsocket_class._create(\n\u001b[0m\u001b[1;32m    501\u001b[0m             \u001b[0msock\u001b[0m\u001b[0;34m=\u001b[0m\u001b[0msock\u001b[0m\u001b[0;34m,\u001b[0m\u001b[0;34m\u001b[0m\u001b[0;34m\u001b[0m\u001b[0m\n",
      "\u001b[0;32m/Library/Frameworks/Python.framework/Versions/3.9/lib/python3.9/ssl.py\u001b[0m in \u001b[0;36m_create\u001b[0;34m(cls, sock, server_side, do_handshake_on_connect, suppress_ragged_eofs, server_hostname, context, session)\u001b[0m\n\u001b[1;32m   1039\u001b[0m                         \u001b[0;32mraise\u001b[0m \u001b[0mValueError\u001b[0m\u001b[0;34m(\u001b[0m\u001b[0;34m\"do_handshake_on_connect should not be specified for non-blocking sockets\"\u001b[0m\u001b[0;34m)\u001b[0m\u001b[0;34m\u001b[0m\u001b[0;34m\u001b[0m\u001b[0m\n\u001b[0;32m-> 1040\u001b[0;31m                     \u001b[0mself\u001b[0m\u001b[0;34m.\u001b[0m\u001b[0mdo_handshake\u001b[0m\u001b[0;34m(\u001b[0m\u001b[0;34m)\u001b[0m\u001b[0;34m\u001b[0m\u001b[0;34m\u001b[0m\u001b[0m\n\u001b[0m\u001b[1;32m   1041\u001b[0m             \u001b[0;32mexcept\u001b[0m \u001b[0;34m(\u001b[0m\u001b[0mOSError\u001b[0m\u001b[0;34m,\u001b[0m \u001b[0mValueError\u001b[0m\u001b[0;34m)\u001b[0m\u001b[0;34m:\u001b[0m\u001b[0;34m\u001b[0m\u001b[0;34m\u001b[0m\u001b[0m\n",
      "\u001b[0;32m/Library/Frameworks/Python.framework/Versions/3.9/lib/python3.9/ssl.py\u001b[0m in \u001b[0;36mdo_handshake\u001b[0;34m(self, block)\u001b[0m\n\u001b[1;32m   1308\u001b[0m                 \u001b[0mself\u001b[0m\u001b[0;34m.\u001b[0m\u001b[0msettimeout\u001b[0m\u001b[0;34m(\u001b[0m\u001b[0;32mNone\u001b[0m\u001b[0;34m)\u001b[0m\u001b[0;34m\u001b[0m\u001b[0;34m\u001b[0m\u001b[0m\n\u001b[0;32m-> 1309\u001b[0;31m             \u001b[0mself\u001b[0m\u001b[0;34m.\u001b[0m\u001b[0m_sslobj\u001b[0m\u001b[0;34m.\u001b[0m\u001b[0mdo_handshake\u001b[0m\u001b[0;34m(\u001b[0m\u001b[0;34m)\u001b[0m\u001b[0;34m\u001b[0m\u001b[0;34m\u001b[0m\u001b[0m\n\u001b[0m\u001b[1;32m   1310\u001b[0m         \u001b[0;32mfinally\u001b[0m\u001b[0;34m:\u001b[0m\u001b[0;34m\u001b[0m\u001b[0;34m\u001b[0m\u001b[0m\n",
      "\u001b[0;31mSSLCertVerificationError\u001b[0m: [SSL: CERTIFICATE_VERIFY_FAILED] certificate verify failed: unable to get local issuer certificate (_ssl.c:1123)",
      "\nDuring handling of the above exception, another exception occurred:\n",
      "\u001b[0;31mURLError\u001b[0m                                  Traceback (most recent call last)",
      "\u001b[0;32m<ipython-input-4-67aa2fb2270b>\u001b[0m in \u001b[0;36m<module>\u001b[0;34m\u001b[0m\n\u001b[1;32m      1\u001b[0m \u001b[0murl\u001b[0m \u001b[0;34m=\u001b[0m \u001b[0;34m'https://raw.githubusercontent.com/AmbujaBudakoti27/Sarcasm-Detection/main/sarcasm_detection_shared_task_twitter_training.jsonl'\u001b[0m\u001b[0;34m\u001b[0m\u001b[0;34m\u001b[0m\u001b[0m\n\u001b[0;32m----> 2\u001b[0;31m \u001b[0mdf\u001b[0m\u001b[0;34m=\u001b[0m\u001b[0mpd\u001b[0m\u001b[0;34m.\u001b[0m\u001b[0mread_json\u001b[0m\u001b[0;34m(\u001b[0m\u001b[0murl\u001b[0m\u001b[0;34m,\u001b[0m\u001b[0mlines\u001b[0m\u001b[0;34m=\u001b[0m\u001b[0;32mTrue\u001b[0m\u001b[0;34m)\u001b[0m\u001b[0;34m\u001b[0m\u001b[0;34m\u001b[0m\u001b[0m\n\u001b[0m",
      "\u001b[0;32m/Library/Frameworks/Python.framework/Versions/3.9/lib/python3.9/site-packages/pandas/util/_decorators.py\u001b[0m in \u001b[0;36mwrapper\u001b[0;34m(*args, **kwargs)\u001b[0m\n\u001b[1;32m    197\u001b[0m                 \u001b[0;32melse\u001b[0m\u001b[0;34m:\u001b[0m\u001b[0;34m\u001b[0m\u001b[0;34m\u001b[0m\u001b[0m\n\u001b[1;32m    198\u001b[0m                     \u001b[0mkwargs\u001b[0m\u001b[0;34m[\u001b[0m\u001b[0mnew_arg_name\u001b[0m\u001b[0;34m]\u001b[0m \u001b[0;34m=\u001b[0m \u001b[0mnew_arg_value\u001b[0m\u001b[0;34m\u001b[0m\u001b[0;34m\u001b[0m\u001b[0m\n\u001b[0;32m--> 199\u001b[0;31m             \u001b[0;32mreturn\u001b[0m \u001b[0mfunc\u001b[0m\u001b[0;34m(\u001b[0m\u001b[0;34m*\u001b[0m\u001b[0margs\u001b[0m\u001b[0;34m,\u001b[0m \u001b[0;34m**\u001b[0m\u001b[0mkwargs\u001b[0m\u001b[0;34m)\u001b[0m\u001b[0;34m\u001b[0m\u001b[0;34m\u001b[0m\u001b[0m\n\u001b[0m\u001b[1;32m    200\u001b[0m \u001b[0;34m\u001b[0m\u001b[0m\n\u001b[1;32m    201\u001b[0m         \u001b[0;32mreturn\u001b[0m \u001b[0mcast\u001b[0m\u001b[0;34m(\u001b[0m\u001b[0mF\u001b[0m\u001b[0;34m,\u001b[0m \u001b[0mwrapper\u001b[0m\u001b[0;34m)\u001b[0m\u001b[0;34m\u001b[0m\u001b[0;34m\u001b[0m\u001b[0m\n",
      "\u001b[0;32m/Library/Frameworks/Python.framework/Versions/3.9/lib/python3.9/site-packages/pandas/util/_decorators.py\u001b[0m in \u001b[0;36mwrapper\u001b[0;34m(*args, **kwargs)\u001b[0m\n\u001b[1;32m    297\u001b[0m                 )\n\u001b[1;32m    298\u001b[0m                 \u001b[0mwarnings\u001b[0m\u001b[0;34m.\u001b[0m\u001b[0mwarn\u001b[0m\u001b[0;34m(\u001b[0m\u001b[0mmsg\u001b[0m\u001b[0;34m,\u001b[0m \u001b[0mFutureWarning\u001b[0m\u001b[0;34m,\u001b[0m \u001b[0mstacklevel\u001b[0m\u001b[0;34m=\u001b[0m\u001b[0mstacklevel\u001b[0m\u001b[0;34m)\u001b[0m\u001b[0;34m\u001b[0m\u001b[0;34m\u001b[0m\u001b[0m\n\u001b[0;32m--> 299\u001b[0;31m             \u001b[0;32mreturn\u001b[0m \u001b[0mfunc\u001b[0m\u001b[0;34m(\u001b[0m\u001b[0;34m*\u001b[0m\u001b[0margs\u001b[0m\u001b[0;34m,\u001b[0m \u001b[0;34m**\u001b[0m\u001b[0mkwargs\u001b[0m\u001b[0;34m)\u001b[0m\u001b[0;34m\u001b[0m\u001b[0;34m\u001b[0m\u001b[0m\n\u001b[0m\u001b[1;32m    300\u001b[0m \u001b[0;34m\u001b[0m\u001b[0m\n\u001b[1;32m    301\u001b[0m         \u001b[0;32mreturn\u001b[0m \u001b[0mwrapper\u001b[0m\u001b[0;34m\u001b[0m\u001b[0;34m\u001b[0m\u001b[0m\n",
      "\u001b[0;32m/Library/Frameworks/Python.framework/Versions/3.9/lib/python3.9/site-packages/pandas/io/json/_json.py\u001b[0m in \u001b[0;36mread_json\u001b[0;34m(path_or_buf, orient, typ, dtype, convert_axes, convert_dates, keep_default_dates, numpy, precise_float, date_unit, encoding, lines, chunksize, compression, nrows, storage_options)\u001b[0m\n\u001b[1;32m    538\u001b[0m         \u001b[0mconvert_axes\u001b[0m \u001b[0;34m=\u001b[0m \u001b[0;32mTrue\u001b[0m\u001b[0;34m\u001b[0m\u001b[0;34m\u001b[0m\u001b[0m\n\u001b[1;32m    539\u001b[0m \u001b[0;34m\u001b[0m\u001b[0m\n\u001b[0;32m--> 540\u001b[0;31m     json_reader = JsonReader(\n\u001b[0m\u001b[1;32m    541\u001b[0m         \u001b[0mpath_or_buf\u001b[0m\u001b[0;34m,\u001b[0m\u001b[0;34m\u001b[0m\u001b[0;34m\u001b[0m\u001b[0m\n\u001b[1;32m    542\u001b[0m         \u001b[0morient\u001b[0m\u001b[0;34m=\u001b[0m\u001b[0morient\u001b[0m\u001b[0;34m,\u001b[0m\u001b[0;34m\u001b[0m\u001b[0;34m\u001b[0m\u001b[0m\n",
      "\u001b[0;32m/Library/Frameworks/Python.framework/Versions/3.9/lib/python3.9/site-packages/pandas/io/json/_json.py\u001b[0m in \u001b[0;36m__init__\u001b[0;34m(self, filepath_or_buffer, orient, typ, dtype, convert_axes, convert_dates, keep_default_dates, numpy, precise_float, date_unit, encoding, lines, chunksize, compression, nrows, storage_options)\u001b[0m\n\u001b[1;32m    620\u001b[0m                 \u001b[0;32mraise\u001b[0m \u001b[0mValueError\u001b[0m\u001b[0;34m(\u001b[0m\u001b[0;34m\"nrows can only be passed if lines=True\"\u001b[0m\u001b[0;34m)\u001b[0m\u001b[0;34m\u001b[0m\u001b[0;34m\u001b[0m\u001b[0m\n\u001b[1;32m    621\u001b[0m \u001b[0;34m\u001b[0m\u001b[0m\n\u001b[0;32m--> 622\u001b[0;31m         \u001b[0mdata\u001b[0m \u001b[0;34m=\u001b[0m \u001b[0mself\u001b[0m\u001b[0;34m.\u001b[0m\u001b[0m_get_data_from_filepath\u001b[0m\u001b[0;34m(\u001b[0m\u001b[0mfilepath_or_buffer\u001b[0m\u001b[0;34m)\u001b[0m\u001b[0;34m\u001b[0m\u001b[0;34m\u001b[0m\u001b[0m\n\u001b[0m\u001b[1;32m    623\u001b[0m         \u001b[0mself\u001b[0m\u001b[0;34m.\u001b[0m\u001b[0mdata\u001b[0m \u001b[0;34m=\u001b[0m \u001b[0mself\u001b[0m\u001b[0;34m.\u001b[0m\u001b[0m_preprocess_data\u001b[0m\u001b[0;34m(\u001b[0m\u001b[0mdata\u001b[0m\u001b[0;34m)\u001b[0m\u001b[0;34m\u001b[0m\u001b[0;34m\u001b[0m\u001b[0m\n\u001b[1;32m    624\u001b[0m \u001b[0;34m\u001b[0m\u001b[0m\n",
      "\u001b[0;32m/Library/Frameworks/Python.framework/Versions/3.9/lib/python3.9/site-packages/pandas/io/json/_json.py\u001b[0m in \u001b[0;36m_get_data_from_filepath\u001b[0;34m(self, filepath_or_buffer)\u001b[0m\n\u001b[1;32m    657\u001b[0m             \u001b[0;32mor\u001b[0m \u001b[0mfile_exists\u001b[0m\u001b[0;34m(\u001b[0m\u001b[0mfilepath_or_buffer\u001b[0m\u001b[0;34m)\u001b[0m\u001b[0;34m\u001b[0m\u001b[0;34m\u001b[0m\u001b[0m\n\u001b[1;32m    658\u001b[0m         ):\n\u001b[0;32m--> 659\u001b[0;31m             self.handles = get_handle(\n\u001b[0m\u001b[1;32m    660\u001b[0m                 \u001b[0mfilepath_or_buffer\u001b[0m\u001b[0;34m,\u001b[0m\u001b[0;34m\u001b[0m\u001b[0;34m\u001b[0m\u001b[0m\n\u001b[1;32m    661\u001b[0m                 \u001b[0;34m\"r\"\u001b[0m\u001b[0;34m,\u001b[0m\u001b[0;34m\u001b[0m\u001b[0;34m\u001b[0m\u001b[0m\n",
      "\u001b[0;32m/Library/Frameworks/Python.framework/Versions/3.9/lib/python3.9/site-packages/pandas/io/common.py\u001b[0m in \u001b[0;36mget_handle\u001b[0;34m(path_or_buf, mode, encoding, compression, memory_map, is_text, errors, storage_options)\u001b[0m\n\u001b[1;32m    556\u001b[0m \u001b[0;34m\u001b[0m\u001b[0m\n\u001b[1;32m    557\u001b[0m     \u001b[0;31m# open URLs\u001b[0m\u001b[0;34m\u001b[0m\u001b[0;34m\u001b[0m\u001b[0;34m\u001b[0m\u001b[0m\n\u001b[0;32m--> 558\u001b[0;31m     ioargs = _get_filepath_or_buffer(\n\u001b[0m\u001b[1;32m    559\u001b[0m         \u001b[0mpath_or_buf\u001b[0m\u001b[0;34m,\u001b[0m\u001b[0;34m\u001b[0m\u001b[0;34m\u001b[0m\u001b[0m\n\u001b[1;32m    560\u001b[0m         \u001b[0mencoding\u001b[0m\u001b[0;34m=\u001b[0m\u001b[0mencoding\u001b[0m\u001b[0;34m,\u001b[0m\u001b[0;34m\u001b[0m\u001b[0;34m\u001b[0m\u001b[0m\n",
      "\u001b[0;32m/Library/Frameworks/Python.framework/Versions/3.9/lib/python3.9/site-packages/pandas/io/common.py\u001b[0m in \u001b[0;36m_get_filepath_or_buffer\u001b[0;34m(filepath_or_buffer, encoding, compression, mode, storage_options)\u001b[0m\n\u001b[1;32m    287\u001b[0m                 \u001b[0;34m\"storage_options passed with file object or non-fsspec file path\"\u001b[0m\u001b[0;34m\u001b[0m\u001b[0;34m\u001b[0m\u001b[0m\n\u001b[1;32m    288\u001b[0m             )\n\u001b[0;32m--> 289\u001b[0;31m         \u001b[0mreq\u001b[0m \u001b[0;34m=\u001b[0m \u001b[0murlopen\u001b[0m\u001b[0;34m(\u001b[0m\u001b[0mfilepath_or_buffer\u001b[0m\u001b[0;34m)\u001b[0m\u001b[0;34m\u001b[0m\u001b[0;34m\u001b[0m\u001b[0m\n\u001b[0m\u001b[1;32m    290\u001b[0m         \u001b[0mcontent_encoding\u001b[0m \u001b[0;34m=\u001b[0m \u001b[0mreq\u001b[0m\u001b[0;34m.\u001b[0m\u001b[0mheaders\u001b[0m\u001b[0;34m.\u001b[0m\u001b[0mget\u001b[0m\u001b[0;34m(\u001b[0m\u001b[0;34m\"Content-Encoding\"\u001b[0m\u001b[0;34m,\u001b[0m \u001b[0;32mNone\u001b[0m\u001b[0;34m)\u001b[0m\u001b[0;34m\u001b[0m\u001b[0;34m\u001b[0m\u001b[0m\n\u001b[1;32m    291\u001b[0m         \u001b[0;32mif\u001b[0m \u001b[0mcontent_encoding\u001b[0m \u001b[0;34m==\u001b[0m \u001b[0;34m\"gzip\"\u001b[0m\u001b[0;34m:\u001b[0m\u001b[0;34m\u001b[0m\u001b[0;34m\u001b[0m\u001b[0m\n",
      "\u001b[0;32m/Library/Frameworks/Python.framework/Versions/3.9/lib/python3.9/site-packages/pandas/io/common.py\u001b[0m in \u001b[0;36murlopen\u001b[0;34m(*args, **kwargs)\u001b[0m\n\u001b[1;32m    193\u001b[0m     \u001b[0;32mimport\u001b[0m \u001b[0murllib\u001b[0m\u001b[0;34m.\u001b[0m\u001b[0mrequest\u001b[0m\u001b[0;34m\u001b[0m\u001b[0;34m\u001b[0m\u001b[0m\n\u001b[1;32m    194\u001b[0m \u001b[0;34m\u001b[0m\u001b[0m\n\u001b[0;32m--> 195\u001b[0;31m     \u001b[0;32mreturn\u001b[0m \u001b[0murllib\u001b[0m\u001b[0;34m.\u001b[0m\u001b[0mrequest\u001b[0m\u001b[0;34m.\u001b[0m\u001b[0murlopen\u001b[0m\u001b[0;34m(\u001b[0m\u001b[0;34m*\u001b[0m\u001b[0margs\u001b[0m\u001b[0;34m,\u001b[0m \u001b[0;34m**\u001b[0m\u001b[0mkwargs\u001b[0m\u001b[0;34m)\u001b[0m\u001b[0;34m\u001b[0m\u001b[0;34m\u001b[0m\u001b[0m\n\u001b[0m\u001b[1;32m    196\u001b[0m \u001b[0;34m\u001b[0m\u001b[0m\n\u001b[1;32m    197\u001b[0m \u001b[0;34m\u001b[0m\u001b[0m\n",
      "\u001b[0;32m/Library/Frameworks/Python.framework/Versions/3.9/lib/python3.9/urllib/request.py\u001b[0m in \u001b[0;36murlopen\u001b[0;34m(url, data, timeout, cafile, capath, cadefault, context)\u001b[0m\n\u001b[1;32m    212\u001b[0m     \u001b[0;32melse\u001b[0m\u001b[0;34m:\u001b[0m\u001b[0;34m\u001b[0m\u001b[0;34m\u001b[0m\u001b[0m\n\u001b[1;32m    213\u001b[0m         \u001b[0mopener\u001b[0m \u001b[0;34m=\u001b[0m \u001b[0m_opener\u001b[0m\u001b[0;34m\u001b[0m\u001b[0;34m\u001b[0m\u001b[0m\n\u001b[0;32m--> 214\u001b[0;31m     \u001b[0;32mreturn\u001b[0m \u001b[0mopener\u001b[0m\u001b[0;34m.\u001b[0m\u001b[0mopen\u001b[0m\u001b[0;34m(\u001b[0m\u001b[0murl\u001b[0m\u001b[0;34m,\u001b[0m \u001b[0mdata\u001b[0m\u001b[0;34m,\u001b[0m \u001b[0mtimeout\u001b[0m\u001b[0;34m)\u001b[0m\u001b[0;34m\u001b[0m\u001b[0;34m\u001b[0m\u001b[0m\n\u001b[0m\u001b[1;32m    215\u001b[0m \u001b[0;34m\u001b[0m\u001b[0m\n\u001b[1;32m    216\u001b[0m \u001b[0;32mdef\u001b[0m \u001b[0minstall_opener\u001b[0m\u001b[0;34m(\u001b[0m\u001b[0mopener\u001b[0m\u001b[0;34m)\u001b[0m\u001b[0;34m:\u001b[0m\u001b[0;34m\u001b[0m\u001b[0;34m\u001b[0m\u001b[0m\n",
      "\u001b[0;32m/Library/Frameworks/Python.framework/Versions/3.9/lib/python3.9/urllib/request.py\u001b[0m in \u001b[0;36mopen\u001b[0;34m(self, fullurl, data, timeout)\u001b[0m\n\u001b[1;32m    515\u001b[0m \u001b[0;34m\u001b[0m\u001b[0m\n\u001b[1;32m    516\u001b[0m         \u001b[0msys\u001b[0m\u001b[0;34m.\u001b[0m\u001b[0maudit\u001b[0m\u001b[0;34m(\u001b[0m\u001b[0;34m'urllib.Request'\u001b[0m\u001b[0;34m,\u001b[0m \u001b[0mreq\u001b[0m\u001b[0;34m.\u001b[0m\u001b[0mfull_url\u001b[0m\u001b[0;34m,\u001b[0m \u001b[0mreq\u001b[0m\u001b[0;34m.\u001b[0m\u001b[0mdata\u001b[0m\u001b[0;34m,\u001b[0m \u001b[0mreq\u001b[0m\u001b[0;34m.\u001b[0m\u001b[0mheaders\u001b[0m\u001b[0;34m,\u001b[0m \u001b[0mreq\u001b[0m\u001b[0;34m.\u001b[0m\u001b[0mget_method\u001b[0m\u001b[0;34m(\u001b[0m\u001b[0;34m)\u001b[0m\u001b[0;34m)\u001b[0m\u001b[0;34m\u001b[0m\u001b[0;34m\u001b[0m\u001b[0m\n\u001b[0;32m--> 517\u001b[0;31m         \u001b[0mresponse\u001b[0m \u001b[0;34m=\u001b[0m \u001b[0mself\u001b[0m\u001b[0;34m.\u001b[0m\u001b[0m_open\u001b[0m\u001b[0;34m(\u001b[0m\u001b[0mreq\u001b[0m\u001b[0;34m,\u001b[0m \u001b[0mdata\u001b[0m\u001b[0;34m)\u001b[0m\u001b[0;34m\u001b[0m\u001b[0;34m\u001b[0m\u001b[0m\n\u001b[0m\u001b[1;32m    518\u001b[0m \u001b[0;34m\u001b[0m\u001b[0m\n\u001b[1;32m    519\u001b[0m         \u001b[0;31m# post-process response\u001b[0m\u001b[0;34m\u001b[0m\u001b[0;34m\u001b[0m\u001b[0;34m\u001b[0m\u001b[0m\n",
      "\u001b[0;32m/Library/Frameworks/Python.framework/Versions/3.9/lib/python3.9/urllib/request.py\u001b[0m in \u001b[0;36m_open\u001b[0;34m(self, req, data)\u001b[0m\n\u001b[1;32m    532\u001b[0m \u001b[0;34m\u001b[0m\u001b[0m\n\u001b[1;32m    533\u001b[0m         \u001b[0mprotocol\u001b[0m \u001b[0;34m=\u001b[0m \u001b[0mreq\u001b[0m\u001b[0;34m.\u001b[0m\u001b[0mtype\u001b[0m\u001b[0;34m\u001b[0m\u001b[0;34m\u001b[0m\u001b[0m\n\u001b[0;32m--> 534\u001b[0;31m         result = self._call_chain(self.handle_open, protocol, protocol +\n\u001b[0m\u001b[1;32m    535\u001b[0m                                   '_open', req)\n\u001b[1;32m    536\u001b[0m         \u001b[0;32mif\u001b[0m \u001b[0mresult\u001b[0m\u001b[0;34m:\u001b[0m\u001b[0;34m\u001b[0m\u001b[0;34m\u001b[0m\u001b[0m\n",
      "\u001b[0;32m/Library/Frameworks/Python.framework/Versions/3.9/lib/python3.9/urllib/request.py\u001b[0m in \u001b[0;36m_call_chain\u001b[0;34m(self, chain, kind, meth_name, *args)\u001b[0m\n\u001b[1;32m    492\u001b[0m         \u001b[0;32mfor\u001b[0m \u001b[0mhandler\u001b[0m \u001b[0;32min\u001b[0m \u001b[0mhandlers\u001b[0m\u001b[0;34m:\u001b[0m\u001b[0;34m\u001b[0m\u001b[0;34m\u001b[0m\u001b[0m\n\u001b[1;32m    493\u001b[0m             \u001b[0mfunc\u001b[0m \u001b[0;34m=\u001b[0m \u001b[0mgetattr\u001b[0m\u001b[0;34m(\u001b[0m\u001b[0mhandler\u001b[0m\u001b[0;34m,\u001b[0m \u001b[0mmeth_name\u001b[0m\u001b[0;34m)\u001b[0m\u001b[0;34m\u001b[0m\u001b[0;34m\u001b[0m\u001b[0m\n\u001b[0;32m--> 494\u001b[0;31m             \u001b[0mresult\u001b[0m \u001b[0;34m=\u001b[0m \u001b[0mfunc\u001b[0m\u001b[0;34m(\u001b[0m\u001b[0;34m*\u001b[0m\u001b[0margs\u001b[0m\u001b[0;34m)\u001b[0m\u001b[0;34m\u001b[0m\u001b[0;34m\u001b[0m\u001b[0m\n\u001b[0m\u001b[1;32m    495\u001b[0m             \u001b[0;32mif\u001b[0m \u001b[0mresult\u001b[0m \u001b[0;32mis\u001b[0m \u001b[0;32mnot\u001b[0m \u001b[0;32mNone\u001b[0m\u001b[0;34m:\u001b[0m\u001b[0;34m\u001b[0m\u001b[0;34m\u001b[0m\u001b[0m\n\u001b[1;32m    496\u001b[0m                 \u001b[0;32mreturn\u001b[0m \u001b[0mresult\u001b[0m\u001b[0;34m\u001b[0m\u001b[0;34m\u001b[0m\u001b[0m\n",
      "\u001b[0;32m/Library/Frameworks/Python.framework/Versions/3.9/lib/python3.9/urllib/request.py\u001b[0m in \u001b[0;36mhttps_open\u001b[0;34m(self, req)\u001b[0m\n\u001b[1;32m   1383\u001b[0m \u001b[0;34m\u001b[0m\u001b[0m\n\u001b[1;32m   1384\u001b[0m         \u001b[0;32mdef\u001b[0m \u001b[0mhttps_open\u001b[0m\u001b[0;34m(\u001b[0m\u001b[0mself\u001b[0m\u001b[0;34m,\u001b[0m \u001b[0mreq\u001b[0m\u001b[0;34m)\u001b[0m\u001b[0;34m:\u001b[0m\u001b[0;34m\u001b[0m\u001b[0;34m\u001b[0m\u001b[0m\n\u001b[0;32m-> 1385\u001b[0;31m             return self.do_open(http.client.HTTPSConnection, req,\n\u001b[0m\u001b[1;32m   1386\u001b[0m                 context=self._context, check_hostname=self._check_hostname)\n\u001b[1;32m   1387\u001b[0m \u001b[0;34m\u001b[0m\u001b[0m\n",
      "\u001b[0;32m/Library/Frameworks/Python.framework/Versions/3.9/lib/python3.9/urllib/request.py\u001b[0m in \u001b[0;36mdo_open\u001b[0;34m(self, http_class, req, **http_conn_args)\u001b[0m\n\u001b[1;32m   1343\u001b[0m                           encode_chunked=req.has_header('Transfer-encoding'))\n\u001b[1;32m   1344\u001b[0m             \u001b[0;32mexcept\u001b[0m \u001b[0mOSError\u001b[0m \u001b[0;32mas\u001b[0m \u001b[0merr\u001b[0m\u001b[0;34m:\u001b[0m \u001b[0;31m# timeout error\u001b[0m\u001b[0;34m\u001b[0m\u001b[0;34m\u001b[0m\u001b[0m\n\u001b[0;32m-> 1345\u001b[0;31m                 \u001b[0;32mraise\u001b[0m \u001b[0mURLError\u001b[0m\u001b[0;34m(\u001b[0m\u001b[0merr\u001b[0m\u001b[0;34m)\u001b[0m\u001b[0;34m\u001b[0m\u001b[0;34m\u001b[0m\u001b[0m\n\u001b[0m\u001b[1;32m   1346\u001b[0m             \u001b[0mr\u001b[0m \u001b[0;34m=\u001b[0m \u001b[0mh\u001b[0m\u001b[0;34m.\u001b[0m\u001b[0mgetresponse\u001b[0m\u001b[0;34m(\u001b[0m\u001b[0;34m)\u001b[0m\u001b[0;34m\u001b[0m\u001b[0;34m\u001b[0m\u001b[0m\n\u001b[1;32m   1347\u001b[0m         \u001b[0;32mexcept\u001b[0m\u001b[0;34m:\u001b[0m\u001b[0;34m\u001b[0m\u001b[0;34m\u001b[0m\u001b[0m\n",
      "\u001b[0;31mURLError\u001b[0m: <urlopen error [SSL: CERTIFICATE_VERIFY_FAILED] certificate verify failed: unable to get local issuer certificate (_ssl.c:1123)>"
     ]
    }
   ],
   "source": [
    "url = 'https://raw.githubusercontent.com/AmbujaBudakoti27/Sarcasm-Detection/main/sarcasm_detection_shared_task_twitter_training.jsonl'\n",
    "df=pd.read_json(url,lines=True)"
   ]
  },
  {
   "cell_type": "code",
   "execution_count": 3,
   "metadata": {
    "colab": {
     "base_uri": "https://localhost:8080/",
     "height": 204
    },
    "id": "SbZsJtm-iPq0",
    "outputId": "af9ca3a7-b869-463a-8ca4-a9cb28205b31"
   },
   "outputs": [
    {
     "data": {
      "text/html": [
       "<div>\n",
       "<style scoped>\n",
       "    .dataframe tbody tr th:only-of-type {\n",
       "        vertical-align: middle;\n",
       "    }\n",
       "\n",
       "    .dataframe tbody tr th {\n",
       "        vertical-align: top;\n",
       "    }\n",
       "\n",
       "    .dataframe thead th {\n",
       "        text-align: right;\n",
       "    }\n",
       "</style>\n",
       "<table border=\"1\" class=\"dataframe\">\n",
       "  <thead>\n",
       "    <tr style=\"text-align: right;\">\n",
       "      <th></th>\n",
       "      <th>label</th>\n",
       "      <th>response</th>\n",
       "      <th>context</th>\n",
       "    </tr>\n",
       "  </thead>\n",
       "  <tbody>\n",
       "    <tr>\n",
       "      <th>0</th>\n",
       "      <td>SARCASM</td>\n",
       "      <td>@USER @USER @USER I don't get this .. obviousl...</td>\n",
       "      <td>[A minor child deserves privacy and should be ...</td>\n",
       "    </tr>\n",
       "    <tr>\n",
       "      <th>1</th>\n",
       "      <td>SARCASM</td>\n",
       "      <td>@USER @USER trying to protest about . Talking ...</td>\n",
       "      <td>[@USER @USER Why is he a loser ? He's just a P...</td>\n",
       "    </tr>\n",
       "    <tr>\n",
       "      <th>2</th>\n",
       "      <td>SARCASM</td>\n",
       "      <td>@USER @USER @USER He makes an insane about of ...</td>\n",
       "      <td>[Donald J . Trump is guilty as charged . The e...</td>\n",
       "    </tr>\n",
       "    <tr>\n",
       "      <th>3</th>\n",
       "      <td>SARCASM</td>\n",
       "      <td>@USER @USER Meanwhile Trump won't even release...</td>\n",
       "      <td>[Jamie Raskin tanked Doug Collins . Collins lo...</td>\n",
       "    </tr>\n",
       "    <tr>\n",
       "      <th>4</th>\n",
       "      <td>SARCASM</td>\n",
       "      <td>@USER @USER Pretty Sure the Anti-Lincoln Crowd...</td>\n",
       "      <td>[Man ... y ’ all gone “ both sides ” the apoca...</td>\n",
       "    </tr>\n",
       "  </tbody>\n",
       "</table>\n",
       "</div>"
      ],
      "text/plain": [
       "     label  ...                                            context\n",
       "0  SARCASM  ...  [A minor child deserves privacy and should be ...\n",
       "1  SARCASM  ...  [@USER @USER Why is he a loser ? He's just a P...\n",
       "2  SARCASM  ...  [Donald J . Trump is guilty as charged . The e...\n",
       "3  SARCASM  ...  [Jamie Raskin tanked Doug Collins . Collins lo...\n",
       "4  SARCASM  ...  [Man ... y ’ all gone “ both sides ” the apoca...\n",
       "\n",
       "[5 rows x 3 columns]"
      ]
     },
     "execution_count": 3,
     "metadata": {
      "tags": []
     },
     "output_type": "execute_result"
    }
   ],
   "source": [
    "df.head()"
   ]
  },
  {
   "cell_type": "code",
   "execution_count": 4,
   "metadata": {
    "colab": {
     "base_uri": "https://localhost:8080/"
    },
    "id": "r5vtHY2MigRq",
    "outputId": "2084273f-87f6-4048-ebc4-3d7e45220884"
   },
   "outputs": [
    {
     "name": "stdout",
     "output_type": "stream",
     "text": [
      "<class 'pandas.core.frame.DataFrame'>\n",
      "RangeIndex: 5000 entries, 0 to 4999\n",
      "Data columns (total 3 columns):\n",
      " #   Column    Non-Null Count  Dtype \n",
      "---  ------    --------------  ----- \n",
      " 0   label     5000 non-null   object\n",
      " 1   response  5000 non-null   object\n",
      " 2   context   5000 non-null   object\n",
      "dtypes: object(3)\n",
      "memory usage: 117.3+ KB\n"
     ]
    }
   ],
   "source": [
    "df.info()"
   ]
  },
  {
   "cell_type": "code",
   "execution_count": 5,
   "metadata": {
    "colab": {
     "base_uri": "https://localhost:8080/"
    },
    "id": "bdyLnXZAiuq1",
    "outputId": "6b203ba0-094f-4f94-da2a-79cc406b0669"
   },
   "outputs": [
    {
     "data": {
      "text/plain": [
       "NOT_SARCASM    2500\n",
       "SARCASM        2500\n",
       "Name: label, dtype: int64"
      ]
     },
     "execution_count": 5,
     "metadata": {
      "tags": []
     },
     "output_type": "execute_result"
    }
   ],
   "source": [
    "df['label'].value_counts()"
   ]
  },
  {
   "cell_type": "code",
   "execution_count": 6,
   "metadata": {
    "colab": {
     "base_uri": "https://localhost:8080/",
     "height": 297
    },
    "id": "GZpl7bQqjxAn",
    "outputId": "4770aaed-7483-4b44-88fd-54e8ab4c2711"
   },
   "outputs": [
    {
     "data": {
      "text/plain": [
       "<matplotlib.axes._subplots.AxesSubplot at 0x7feef47b06d0>"
      ]
     },
     "execution_count": 6,
     "metadata": {
      "tags": []
     },
     "output_type": "execute_result"
    },
    {
     "data": {
      "image/png": "[encoded data removed]",
      "text/plain": [
       "<Figure size 432x288 with 1 Axes>"
      ]
     },
     "metadata": {
      "tags": []
     },
     "output_type": "display_data"
    }
   ],
   "source": [
    "sns.set_style('whitegrid')\n",
    "sns.countplot(x='label',data=df)"
   ]
  },
  {
   "cell_type": "code",
   "execution_count": 7,
   "metadata": {
    "colab": {
     "base_uri": "https://localhost:8080/",
     "height": 204
    },
    "id": "wqZpHprSlm_U",
    "outputId": "ef171bb8-71ad-4252-c48e-15f7fb753b62"
   },
   "outputs": [
    {
     "data": {
      "text/html": [
       "<div>\n",
       "<style scoped>\n",
       "    .dataframe tbody tr th:only-of-type {\n",
       "        vertical-align: middle;\n",
       "    }\n",
       "\n",
       "    .dataframe tbody tr th {\n",
       "        vertical-align: top;\n",
       "    }\n",
       "\n",
       "    .dataframe thead th {\n",
       "        text-align: right;\n",
       "    }\n",
       "</style>\n",
       "<table border=\"1\" class=\"dataframe\">\n",
       "  <thead>\n",
       "    <tr style=\"text-align: right;\">\n",
       "      <th></th>\n",
       "      <th>label</th>\n",
       "      <th>response</th>\n",
       "      <th>context</th>\n",
       "    </tr>\n",
       "  </thead>\n",
       "  <tbody>\n",
       "    <tr>\n",
       "      <th>0</th>\n",
       "      <td>SARCASM</td>\n",
       "      <td>i dont get this  obviously you do care or y...</td>\n",
       "      <td>a minor child deserves privacy and should be k...</td>\n",
       "    </tr>\n",
       "    <tr>\n",
       "      <th>1</th>\n",
       "      <td>SARCASM</td>\n",
       "      <td>trying to protest about  talking about him a...</td>\n",
       "      <td>why is he a loser  hes just a press secretar...</td>\n",
       "    </tr>\n",
       "    <tr>\n",
       "      <th>2</th>\n",
       "      <td>SARCASM</td>\n",
       "      <td>he makes an insane about of money from the ...</td>\n",
       "      <td>donald j  trump is guilty as charged  the evid...</td>\n",
       "    </tr>\n",
       "    <tr>\n",
       "      <th>3</th>\n",
       "      <td>SARCASM</td>\n",
       "      <td>meanwhile trump wont even release his sat sc...</td>\n",
       "      <td>jamie raskin tanked doug collins  collins look...</td>\n",
       "    </tr>\n",
       "    <tr>\n",
       "      <th>4</th>\n",
       "      <td>SARCASM</td>\n",
       "      <td>pretty sure the antilincoln crowd claimed th...</td>\n",
       "      <td>man  y  all gone  both sides  the apocalypse o...</td>\n",
       "    </tr>\n",
       "  </tbody>\n",
       "</table>\n",
       "</div>"
      ],
      "text/plain": [
       "     label  ...                                            context\n",
       "0  SARCASM  ...  a minor child deserves privacy and should be k...\n",
       "1  SARCASM  ...    why is he a loser  hes just a press secretar...\n",
       "2  SARCASM  ...  donald j  trump is guilty as charged  the evid...\n",
       "3  SARCASM  ...  jamie raskin tanked doug collins  collins look...\n",
       "4  SARCASM  ...  man  y  all gone  both sides  the apocalypse o...\n",
       "\n",
       "[5 rows x 3 columns]"
      ]
     },
     "execution_count": 7,
     "metadata": {
      "tags": []
     },
     "output_type": "execute_result"
    }
   ],
   "source": [
    "df['response']=df['response'].str.replace('@USER', \"\") \n",
    "df['response']=df['response'].str.replace('\\d+', '')\n",
    "df['response']=df['response'].str.lower()\n",
    "df['response']=df['response'].str.replace('[^\\w\\s]','')\n",
    "\n",
    "df['context']=df['context'].apply(lambda x: ','.join(map(str, x)))\n",
    "df['context']=df['context'].str.replace('@USER', \"\") \n",
    "df['context']=df['context'].str.lower()\n",
    "df['context']=df['context'].str.replace('[^\\w\\s]','')\n",
    "df['context']=df['context'].str.replace('\\d+', '')\n",
    "\n",
    "df.head()"
   ]
  },
  {
   "cell_type": "code",
   "execution_count": 8,
   "metadata": {
    "id": "WhyKRlcIlc4k"
   },
   "outputs": [],
   "source": [
    "X=df['response'].values\n",
    "y=df['label'].values"
   ]
  },
  {
   "cell_type": "code",
   "execution_count": 9,
   "metadata": {
    "colab": {
     "base_uri": "https://localhost:8080/"
    },
    "id": "ZigEqYz8oe7I",
    "outputId": "58feca84-be5f-418b-fa94-7fa8fd3bb70b"
   },
   "outputs": [
    {
     "data": {
      "text/plain": [
       "array([1, 1, 1, ..., 0, 0, 0], dtype=uint8)"
      ]
     },
     "execution_count": 9,
     "metadata": {
      "tags": []
     },
     "output_type": "execute_result"
    }
   ],
   "source": [
    "y = pd.get_dummies(df['label'])\n",
    "y = y.iloc[:,1].values\n",
    "y"
   ]
  },
  {
   "cell_type": "code",
   "execution_count": 10,
   "metadata": {
    "id": "3TSttLBAmf9e"
   },
   "outputs": [],
   "source": [
    "from sklearn.model_selection import train_test_split\n",
    "X_train, X_test, y_train, y_test = train_test_split(X, y, test_size=0.2, random_state=0)"
   ]
  },
  {
   "cell_type": "code",
   "execution_count": 11,
   "metadata": {
    "id": "8mk5E46vj62F"
   },
   "outputs": [],
   "source": [
    "vocab_size=10000\n",
    "embedding_dim=16\n",
    "max_length=32\n",
    "trunc_type='post'\n",
    "padding_type='post'\n",
    "oov_tok='<oov>'"
   ]
  },
  {
   "cell_type": "code",
   "execution_count": 12,
   "metadata": {
    "id": "mtjLq5klmoqt"
   },
   "outputs": [],
   "source": [
    "from tensorflow.keras.preprocessing.text import Tokenizer\n",
    "from tensorflow.keras.preprocessing.sequence import pad_sequences\n",
    "\n",
    "tokenizer= Tokenizer(num_words=vocab_size, oov_token=oov_tok)\n",
    "tokenizer.fit_on_texts(X_train)\n",
    "\n",
    "word_index=tokenizer.word_index\n",
    "\n",
    "training_sequences=tokenizer.texts_to_sequences(X_train)\n",
    "training_padded=pad_sequences(training_sequences, maxlen=max_length, padding=padding_type, truncating=trunc_type)\n",
    "\n",
    "testing_sequences=tokenizer.texts_to_sequences(X_test)\n",
    "testing_padded=pad_sequences(testing_sequences, maxlen=max_length, padding=padding_type, truncating=trunc_type)"
   ]
  },
  {
   "cell_type": "code",
   "execution_count": 13,
   "metadata": {
    "colab": {
     "base_uri": "https://localhost:8080/"
    },
    "id": "79-S9XjWmsAJ",
    "outputId": "8636e216-6d18-4536-e951-aba1e9ce11e4"
   },
   "outputs": [
    {
     "data": {
      "text/plain": [
       "array([[  89, 3205,   22, ...,    0,    0,    0],\n",
       "       [  26, 2422,    8, ...,    0,    0,    0],\n",
       "       [   2, 4930,  209, ...,    0,    0,    0],\n",
       "       ...,\n",
       "       [ 529,  246,   84, ...,    0,    0,    0],\n",
       "       [  25,  315,    9, ...,    0,    0,    0],\n",
       "       [ 984,   19,   84, ...,    0,    0,    0]], dtype=int32)"
      ]
     },
     "execution_count": 13,
     "metadata": {
      "tags": []
     },
     "output_type": "execute_result"
    }
   ],
   "source": [
    "training_padded"
   ]
  },
  {
   "cell_type": "code",
   "execution_count": 14,
   "metadata": {
    "colab": {
     "base_uri": "https://localhost:8080/"
    },
    "id": "VUrAgZlim2Jd",
    "outputId": "deb3b76a-9319-45ab-af78-d5fb04b183b5"
   },
   "outputs": [
    {
     "name": "stdout",
     "output_type": "stream",
     "text": [
      "(4000, 32)\n",
      "(1000, 32)\n"
     ]
    }
   ],
   "source": [
    "print(training_padded.shape)\n",
    "print(testing_padded.shape)"
   ]
  },
  {
   "cell_type": "code",
   "execution_count": 40,
   "metadata": {
    "id": "5uJUX5g7ngFQ"
   },
   "outputs": [],
   "source": [
    "import tensorflow as tf\n",
    "from tensorflow.keras.models import Sequential\n",
    "from tensorflow.keras.layers import Dense, Dropout, Embedding, Flatten\n",
    "from sklearn.metrics import f1_score\n",
    "from sklearn.metrics import confusion_matrix"
   ]
  },
  {
   "cell_type": "code",
   "execution_count": 41,
   "metadata": {
    "id": "lhBOvc6XiB11"
   },
   "outputs": [],
   "source": [
    "from keras.models import Sequential\n",
    "from keras.models import Model, load_model\n",
    "from keras.layers import Input, Dense, Embedding, Conv1D, MaxPooling1D, Flatten\n",
    "from keras import optimizers"
   ]
  },
  {
   "cell_type": "code",
   "execution_count": 42,
   "metadata": {
    "colab": {
     "base_uri": "https://localhost:8080/"
    },
    "id": "Xg_VHdE-h6X8",
    "outputId": "7c3d0650-f676-47ae-ed70-3856bf81bcd0"
   },
   "outputs": [
    {
     "name": "stdout",
     "output_type": "stream",
     "text": [
      "Model: \"model_1\"\n",
      "_________________________________________________________________\n",
      "Layer (type)                 Output Shape              Param #   \n",
      "=================================================================\n",
      "main_input (InputLayer)      [(None, 32)]              0         \n",
      "_________________________________________________________________\n",
      "embedding_3 (Embedding)      (None, 32, 16)            160000    \n",
      "_________________________________________________________________\n",
      "conv1d_10 (Conv1D)           (None, 29, 50)            3250      \n",
      "_________________________________________________________________\n",
      "max_pooling1d_8 (MaxPooling1 (None, 14, 50)            0         \n",
      "_________________________________________________________________\n",
      "conv1d_11 (Conv1D)           (None, 12, 100)           15100     \n",
      "_________________________________________________________________\n",
      "max_pooling1d_9 (MaxPooling1 (None, 6, 100)            0         \n",
      "_________________________________________________________________\n",
      "flatten_4 (Flatten)          (None, 600)               0         \n",
      "_________________________________________________________________\n",
      "fully_connected (Dense)      (None, 100)               60100     \n",
      "_________________________________________________________________\n",
      "dense_4 (Dense)              (None, 1)                 101       \n",
      "=================================================================\n",
      "Total params: 238,551\n",
      "Trainable params: 238,551\n",
      "Non-trainable params: 0\n",
      "_________________________________________________________________\n",
      "None\n"
     ]
    }
   ],
   "source": [
    "input_data = Input(shape=(max_length,), name='main_input')\n",
    "embedding_layer = Embedding(vocab_size, embedding_dim, input_length=max_length)(input_data)\n",
    "conv_1 = Conv1D(filters=50, kernel_size=4, activation='relu')(embedding_layer)\n",
    "max_1 = MaxPooling1D(pool_size=2)(conv_1)\n",
    "conv_2 = Conv1D(filters=100, kernel_size=3, activation='relu')(max_1)\n",
    "max_2 = MaxPooling1D(pool_size=2)(conv_2)\n",
    "flatten = Flatten()(max_2)\n",
    "dense = Dense(100, activation='relu', name='fully_connected')(flatten)\n",
    "out = Dense(1, activation='sigmoid')(dense)\n",
    "\n",
    "model_01 = Model(inputs=[input_data], outputs=[out])\n",
    "\n",
    "print(model_01.summary())"
   ]
  },
  {
   "cell_type": "code",
   "execution_count": 43,
   "metadata": {
    "colab": {
     "base_uri": "https://localhost:8080/"
    },
    "id": "BMnOVdcGq0l1",
    "outputId": "3e0a542f-fa67-4fff-aecd-a9a9ed994dcd"
   },
   "outputs": [
    {
     "name": "stdout",
     "output_type": "stream",
     "text": [
      "Epoch 1/100\n",
      "16/16 [==============================] - 6s 67ms/step - loss: 0.6928 - accuracy: 0.4958 - val_loss: 0.6908 - val_accuracy: 0.5650\n",
      "Epoch 2/100\n",
      "16/16 [==============================] - 0s 31ms/step - loss: 0.6903 - accuracy: 0.5806 - val_loss: 0.6885 - val_accuracy: 0.5810\n",
      "Epoch 3/100\n",
      "16/16 [==============================] - 0s 31ms/step - loss: 0.6875 - accuracy: 0.5852 - val_loss: 0.6854 - val_accuracy: 0.5860\n",
      "Epoch 4/100\n",
      "16/16 [==============================] - 1s 32ms/step - loss: 0.6824 - accuracy: 0.6133 - val_loss: 0.6811 - val_accuracy: 0.5860\n",
      "Epoch 5/100\n",
      "16/16 [==============================] - 1s 32ms/step - loss: 0.6784 - accuracy: 0.6097 - val_loss: 0.6767 - val_accuracy: 0.5910\n",
      "Epoch 6/100\n",
      "16/16 [==============================] - 1s 31ms/step - loss: 0.6714 - accuracy: 0.6120 - val_loss: 0.6719 - val_accuracy: 0.5910\n",
      "Epoch 7/100\n",
      "16/16 [==============================] - 0s 31ms/step - loss: 0.6675 - accuracy: 0.6078 - val_loss: 0.6686 - val_accuracy: 0.5970\n",
      "Epoch 8/100\n",
      "16/16 [==============================] - 0s 31ms/step - loss: 0.6593 - accuracy: 0.6150 - val_loss: 0.6667 - val_accuracy: 0.5980\n",
      "Epoch 9/100\n",
      "16/16 [==============================] - 0s 30ms/step - loss: 0.6578 - accuracy: 0.6065 - val_loss: 0.6660 - val_accuracy: 0.6020\n",
      "Epoch 10/100\n",
      "16/16 [==============================] - 1s 34ms/step - loss: 0.6488 - accuracy: 0.6193 - val_loss: 0.6649 - val_accuracy: 0.6050\n",
      "Epoch 11/100\n",
      "16/16 [==============================] - 0s 30ms/step - loss: 0.6363 - accuracy: 0.6389 - val_loss: 0.6637 - val_accuracy: 0.6060\n",
      "Epoch 12/100\n",
      "16/16 [==============================] - 0s 31ms/step - loss: 0.6363 - accuracy: 0.6332 - val_loss: 0.6603 - val_accuracy: 0.6070\n",
      "Epoch 13/100\n",
      "16/16 [==============================] - 0s 31ms/step - loss: 0.6168 - accuracy: 0.6581 - val_loss: 0.6573 - val_accuracy: 0.6090\n",
      "Epoch 14/100\n",
      "16/16 [==============================] - 0s 31ms/step - loss: 0.6121 - accuracy: 0.6576 - val_loss: 0.6510 - val_accuracy: 0.6190\n",
      "Epoch 15/100\n",
      "16/16 [==============================] - 0s 30ms/step - loss: 0.5862 - accuracy: 0.6966 - val_loss: 0.6457 - val_accuracy: 0.6270\n",
      "Epoch 16/100\n",
      "16/16 [==============================] - 1s 32ms/step - loss: 0.5669 - accuracy: 0.7117 - val_loss: 0.6313 - val_accuracy: 0.6280\n",
      "Epoch 17/100\n",
      "16/16 [==============================] - 0s 31ms/step - loss: 0.5285 - accuracy: 0.7603 - val_loss: 0.6185 - val_accuracy: 0.6500\n",
      "Epoch 18/100\n",
      "16/16 [==============================] - 1s 32ms/step - loss: 0.4966 - accuracy: 0.7900 - val_loss: 0.6071 - val_accuracy: 0.6610\n",
      "Epoch 19/100\n",
      "16/16 [==============================] - 0s 30ms/step - loss: 0.4498 - accuracy: 0.8194 - val_loss: 0.5983 - val_accuracy: 0.6870\n",
      "Epoch 20/100\n",
      "16/16 [==============================] - 1s 32ms/step - loss: 0.4044 - accuracy: 0.8466 - val_loss: 0.5915 - val_accuracy: 0.6910\n",
      "Epoch 21/100\n",
      "16/16 [==============================] - 0s 31ms/step - loss: 0.3605 - accuracy: 0.8630 - val_loss: 0.5894 - val_accuracy: 0.6930\n",
      "Epoch 22/100\n",
      "16/16 [==============================] - 1s 33ms/step - loss: 0.3240 - accuracy: 0.8775 - val_loss: 0.5902 - val_accuracy: 0.7040\n",
      "Epoch 23/100\n",
      "16/16 [==============================] - 1s 32ms/step - loss: 0.2835 - accuracy: 0.8987 - val_loss: 0.5945 - val_accuracy: 0.7110\n",
      "Epoch 24/100\n",
      "16/16 [==============================] - 1s 31ms/step - loss: 0.2443 - accuracy: 0.9203 - val_loss: 0.6033 - val_accuracy: 0.7120\n",
      "Epoch 25/100\n",
      "16/16 [==============================] - 0s 31ms/step - loss: 0.2272 - accuracy: 0.9277 - val_loss: 0.6093 - val_accuracy: 0.7170\n",
      "Epoch 26/100\n",
      "16/16 [==============================] - 0s 31ms/step - loss: 0.2034 - accuracy: 0.9298 - val_loss: 0.6195 - val_accuracy: 0.7160\n",
      "Epoch 27/100\n",
      "16/16 [==============================] - 0s 30ms/step - loss: 0.1777 - accuracy: 0.9436 - val_loss: 0.6314 - val_accuracy: 0.7110\n",
      "Epoch 28/100\n",
      "16/16 [==============================] - 1s 31ms/step - loss: 0.1593 - accuracy: 0.9480 - val_loss: 0.6437 - val_accuracy: 0.7110\n",
      "Epoch 29/100\n",
      "16/16 [==============================] - 0s 31ms/step - loss: 0.1429 - accuracy: 0.9565 - val_loss: 0.6576 - val_accuracy: 0.7140\n",
      "Epoch 30/100\n",
      "16/16 [==============================] - 1s 32ms/step - loss: 0.1244 - accuracy: 0.9648 - val_loss: 0.6701 - val_accuracy: 0.7180\n",
      "Epoch 31/100\n",
      "16/16 [==============================] - 1s 32ms/step - loss: 0.1123 - accuracy: 0.9726 - val_loss: 0.6895 - val_accuracy: 0.7140\n",
      "Epoch 32/100\n",
      "16/16 [==============================] - 1s 32ms/step - loss: 0.1045 - accuracy: 0.9727 - val_loss: 0.7030 - val_accuracy: 0.7160\n",
      "Epoch 33/100\n",
      "16/16 [==============================] - 0s 31ms/step - loss: 0.0918 - accuracy: 0.9751 - val_loss: 0.7153 - val_accuracy: 0.7150\n",
      "Epoch 34/100\n",
      "16/16 [==============================] - 1s 32ms/step - loss: 0.0815 - accuracy: 0.9817 - val_loss: 0.7316 - val_accuracy: 0.7140\n",
      "Epoch 35/100\n",
      "16/16 [==============================] - 0s 31ms/step - loss: 0.0729 - accuracy: 0.9846 - val_loss: 0.7470 - val_accuracy: 0.7180\n",
      "Epoch 36/100\n",
      "16/16 [==============================] - 1s 31ms/step - loss: 0.0617 - accuracy: 0.9874 - val_loss: 0.7653 - val_accuracy: 0.7170\n",
      "Epoch 37/100\n",
      "16/16 [==============================] - 0s 31ms/step - loss: 0.0554 - accuracy: 0.9879 - val_loss: 0.7781 - val_accuracy: 0.7170\n",
      "Epoch 38/100\n",
      "16/16 [==============================] - 1s 31ms/step - loss: 0.0528 - accuracy: 0.9876 - val_loss: 0.7944 - val_accuracy: 0.7210\n",
      "Epoch 39/100\n",
      "16/16 [==============================] - 0s 30ms/step - loss: 0.0450 - accuracy: 0.9909 - val_loss: 0.8166 - val_accuracy: 0.7060\n",
      "Epoch 40/100\n",
      "16/16 [==============================] - 1s 32ms/step - loss: 0.0450 - accuracy: 0.9917 - val_loss: 0.8260 - val_accuracy: 0.7190\n",
      "Epoch 41/100\n",
      "16/16 [==============================] - 0s 31ms/step - loss: 0.0370 - accuracy: 0.9945 - val_loss: 0.8423 - val_accuracy: 0.7180\n",
      "Epoch 42/100\n",
      "16/16 [==============================] - 1s 31ms/step - loss: 0.0342 - accuracy: 0.9937 - val_loss: 0.8573 - val_accuracy: 0.7210\n",
      "Epoch 43/100\n",
      "16/16 [==============================] - 1s 31ms/step - loss: 0.0307 - accuracy: 0.9968 - val_loss: 0.8736 - val_accuracy: 0.7210\n",
      "Epoch 44/100\n",
      "16/16 [==============================] - 1s 31ms/step - loss: 0.0274 - accuracy: 0.9976 - val_loss: 0.8888 - val_accuracy: 0.7180\n",
      "Epoch 45/100\n",
      "16/16 [==============================] - 1s 32ms/step - loss: 0.0243 - accuracy: 0.9968 - val_loss: 0.9030 - val_accuracy: 0.7200\n",
      "Epoch 46/100\n",
      "16/16 [==============================] - 1s 32ms/step - loss: 0.0222 - accuracy: 0.9979 - val_loss: 0.9178 - val_accuracy: 0.7220\n",
      "Epoch 47/100\n",
      "16/16 [==============================] - 1s 32ms/step - loss: 0.0209 - accuracy: 0.9976 - val_loss: 0.9328 - val_accuracy: 0.7170\n",
      "Epoch 48/100\n",
      "16/16 [==============================] - 1s 32ms/step - loss: 0.0191 - accuracy: 0.9984 - val_loss: 0.9485 - val_accuracy: 0.7170\n",
      "Epoch 49/100\n",
      "16/16 [==============================] - 1s 32ms/step - loss: 0.0191 - accuracy: 0.9974 - val_loss: 0.9628 - val_accuracy: 0.7140\n",
      "Epoch 50/100\n",
      "16/16 [==============================] - 0s 31ms/step - loss: 0.0169 - accuracy: 0.9989 - val_loss: 0.9744 - val_accuracy: 0.7180\n",
      "Epoch 51/100\n",
      "16/16 [==============================] - 1s 33ms/step - loss: 0.0145 - accuracy: 0.9992 - val_loss: 0.9880 - val_accuracy: 0.7190\n",
      "Epoch 52/100\n",
      "16/16 [==============================] - 1s 32ms/step - loss: 0.0138 - accuracy: 0.9990 - val_loss: 1.0024 - val_accuracy: 0.7200\n",
      "Epoch 53/100\n",
      "16/16 [==============================] - 1s 32ms/step - loss: 0.0121 - accuracy: 0.9995 - val_loss: 1.0159 - val_accuracy: 0.7180\n",
      "Epoch 54/100\n",
      "16/16 [==============================] - 0s 31ms/step - loss: 0.0105 - accuracy: 0.9998 - val_loss: 1.0297 - val_accuracy: 0.7180\n",
      "Epoch 55/100\n",
      "16/16 [==============================] - 1s 31ms/step - loss: 0.0108 - accuracy: 0.9993 - val_loss: 1.0420 - val_accuracy: 0.7130\n",
      "Epoch 56/100\n",
      "16/16 [==============================] - 0s 31ms/step - loss: 0.0100 - accuracy: 0.9989 - val_loss: 1.0545 - val_accuracy: 0.7140\n",
      "Epoch 57/100\n",
      "16/16 [==============================] - 0s 30ms/step - loss: 0.0092 - accuracy: 0.9997 - val_loss: 1.0664 - val_accuracy: 0.7170\n",
      "Epoch 58/100\n",
      "16/16 [==============================] - 1s 32ms/step - loss: 0.0089 - accuracy: 0.9991 - val_loss: 1.0789 - val_accuracy: 0.7180\n",
      "Epoch 59/100\n",
      "16/16 [==============================] - 1s 31ms/step - loss: 0.0079 - accuracy: 0.9997 - val_loss: 1.0895 - val_accuracy: 0.7150\n",
      "Epoch 60/100\n",
      "16/16 [==============================] - 1s 32ms/step - loss: 0.0068 - accuracy: 0.9998 - val_loss: 1.1000 - val_accuracy: 0.7150\n",
      "Epoch 61/100\n",
      "16/16 [==============================] - 1s 31ms/step - loss: 0.0067 - accuracy: 0.9994 - val_loss: 1.1118 - val_accuracy: 0.7150\n",
      "Epoch 62/100\n",
      "16/16 [==============================] - 1s 31ms/step - loss: 0.0066 - accuracy: 1.0000 - val_loss: 1.1222 - val_accuracy: 0.7170\n",
      "Epoch 63/100\n",
      "16/16 [==============================] - 1s 32ms/step - loss: 0.0063 - accuracy: 0.9992 - val_loss: 1.1323 - val_accuracy: 0.7160\n",
      "Epoch 64/100\n",
      "16/16 [==============================] - 1s 32ms/step - loss: 0.0053 - accuracy: 0.9999 - val_loss: 1.1428 - val_accuracy: 0.7140\n",
      "Epoch 65/100\n",
      "16/16 [==============================] - 1s 33ms/step - loss: 0.0052 - accuracy: 1.0000 - val_loss: 1.1528 - val_accuracy: 0.7160\n",
      "Epoch 66/100\n",
      "16/16 [==============================] - 1s 32ms/step - loss: 0.0053 - accuracy: 0.9994 - val_loss: 1.1634 - val_accuracy: 0.7150\n",
      "Epoch 67/100\n",
      "16/16 [==============================] - 1s 33ms/step - loss: 0.0048 - accuracy: 1.0000 - val_loss: 1.1729 - val_accuracy: 0.7160\n",
      "Epoch 68/100\n",
      "16/16 [==============================] - 1s 32ms/step - loss: 0.0044 - accuracy: 1.0000 - val_loss: 1.1812 - val_accuracy: 0.7120\n",
      "Epoch 69/100\n",
      "16/16 [==============================] - 1s 32ms/step - loss: 0.0042 - accuracy: 0.9995 - val_loss: 1.1914 - val_accuracy: 0.7140\n",
      "Epoch 70/100\n",
      "16/16 [==============================] - 1s 32ms/step - loss: 0.0042 - accuracy: 0.9998 - val_loss: 1.1998 - val_accuracy: 0.7120\n",
      "Epoch 71/100\n",
      "16/16 [==============================] - 1s 32ms/step - loss: 0.0036 - accuracy: 0.9999 - val_loss: 1.2091 - val_accuracy: 0.7130\n",
      "Epoch 72/100\n",
      "16/16 [==============================] - 0s 31ms/step - loss: 0.0037 - accuracy: 0.9995 - val_loss: 1.2173 - val_accuracy: 0.7120\n",
      "Epoch 73/100\n",
      "16/16 [==============================] - 1s 32ms/step - loss: 0.0041 - accuracy: 0.9989 - val_loss: 1.2258 - val_accuracy: 0.7110\n",
      "Epoch 74/100\n",
      "16/16 [==============================] - 1s 32ms/step - loss: 0.0032 - accuracy: 0.9996 - val_loss: 1.2339 - val_accuracy: 0.7100\n",
      "Epoch 75/100\n",
      "16/16 [==============================] - 1s 31ms/step - loss: 0.0032 - accuracy: 0.9998 - val_loss: 1.2426 - val_accuracy: 0.7140\n",
      "Epoch 76/100\n",
      "16/16 [==============================] - 0s 31ms/step - loss: 0.0032 - accuracy: 0.9996 - val_loss: 1.2498 - val_accuracy: 0.7080\n",
      "Epoch 77/100\n",
      "16/16 [==============================] - 0s 31ms/step - loss: 0.0031 - accuracy: 0.9998 - val_loss: 1.2577 - val_accuracy: 0.7090\n",
      "Epoch 78/100\n",
      "16/16 [==============================] - 1s 32ms/step - loss: 0.0031 - accuracy: 0.9996 - val_loss: 1.2657 - val_accuracy: 0.7080\n",
      "Epoch 79/100\n",
      "16/16 [==============================] - 0s 31ms/step - loss: 0.0025 - accuracy: 0.9999 - val_loss: 1.2733 - val_accuracy: 0.7080\n",
      "Epoch 80/100\n",
      "16/16 [==============================] - 1s 32ms/step - loss: 0.0023 - accuracy: 1.0000 - val_loss: 1.2807 - val_accuracy: 0.7100\n",
      "Epoch 81/100\n",
      "16/16 [==============================] - 0s 31ms/step - loss: 0.0022 - accuracy: 1.0000 - val_loss: 1.2884 - val_accuracy: 0.7080\n",
      "Epoch 82/100\n",
      "16/16 [==============================] - 0s 31ms/step - loss: 0.0022 - accuracy: 0.9999 - val_loss: 1.2953 - val_accuracy: 0.7100\n",
      "Epoch 83/100\n",
      "16/16 [==============================] - 1s 31ms/step - loss: 0.0022 - accuracy: 0.9999 - val_loss: 1.3020 - val_accuracy: 0.7090\n",
      "Epoch 84/100\n",
      "16/16 [==============================] - 0s 31ms/step - loss: 0.0020 - accuracy: 0.9998 - val_loss: 1.3088 - val_accuracy: 0.7100\n",
      "Epoch 85/100\n",
      "16/16 [==============================] - 0s 31ms/step - loss: 0.0021 - accuracy: 0.9998 - val_loss: 1.3156 - val_accuracy: 0.7070\n",
      "Epoch 86/100\n",
      "16/16 [==============================] - 0s 31ms/step - loss: 0.0025 - accuracy: 0.9991 - val_loss: 1.3234 - val_accuracy: 0.7140\n",
      "Epoch 87/100\n",
      "16/16 [==============================] - 1s 31ms/step - loss: 0.0021 - accuracy: 0.9999 - val_loss: 1.3293 - val_accuracy: 0.7110\n",
      "Epoch 88/100\n",
      "16/16 [==============================] - 1s 31ms/step - loss: 0.0018 - accuracy: 0.9999 - val_loss: 1.3352 - val_accuracy: 0.7110\n",
      "Epoch 89/100\n",
      "16/16 [==============================] - 0s 31ms/step - loss: 0.0026 - accuracy: 0.9992 - val_loss: 1.3415 - val_accuracy: 0.7100\n",
      "Epoch 90/100\n",
      "16/16 [==============================] - 1s 32ms/step - loss: 0.0020 - accuracy: 0.9992 - val_loss: 1.3485 - val_accuracy: 0.7140\n",
      "Epoch 91/100\n",
      "16/16 [==============================] - 0s 31ms/step - loss: 0.0021 - accuracy: 0.9989 - val_loss: 1.3543 - val_accuracy: 0.7120\n",
      "Epoch 92/100\n",
      "16/16 [==============================] - 1s 32ms/step - loss: 0.0016 - accuracy: 0.9996 - val_loss: 1.3605 - val_accuracy: 0.7100\n",
      "Epoch 93/100\n",
      "16/16 [==============================] - 1s 32ms/step - loss: 0.0017 - accuracy: 0.9998 - val_loss: 1.3665 - val_accuracy: 0.7120\n",
      "Epoch 94/100\n",
      "16/16 [==============================] - 1s 32ms/step - loss: 0.0014 - accuracy: 0.9999 - val_loss: 1.3722 - val_accuracy: 0.7120\n",
      "Epoch 95/100\n",
      "16/16 [==============================] - 1s 32ms/step - loss: 0.0013 - accuracy: 1.0000 - val_loss: 1.3782 - val_accuracy: 0.7120\n",
      "Epoch 96/100\n",
      "16/16 [==============================] - 1s 32ms/step - loss: 0.0017 - accuracy: 1.0000 - val_loss: 1.3843 - val_accuracy: 0.7080\n",
      "Epoch 97/100\n",
      "16/16 [==============================] - 1s 31ms/step - loss: 0.0012 - accuracy: 1.0000 - val_loss: 1.3900 - val_accuracy: 0.7130\n",
      "Epoch 98/100\n",
      "16/16 [==============================] - 1s 32ms/step - loss: 0.0012 - accuracy: 0.9999 - val_loss: 1.3948 - val_accuracy: 0.7140\n",
      "Epoch 99/100\n",
      "16/16 [==============================] - 1s 32ms/step - loss: 0.0012 - accuracy: 0.9998 - val_loss: 1.4002 - val_accuracy: 0.7070\n",
      "Epoch 100/100\n",
      "16/16 [==============================] - 1s 32ms/step - loss: 0.0013 - accuracy: 0.9996 - val_loss: 1.4058 - val_accuracy: 0.7140\n"
     ]
    },
    {
     "data": {
      "text/plain": [
       "<keras.callbacks.History at 0x7fee9beaa9d0>"
      ]
     },
     "execution_count": 43,
     "metadata": {
      "tags": []
     },
     "output_type": "execute_result"
    }
   ],
   "source": [
    "opt = tf.keras.optimizers.Adam(learning_rate=0.0001)\n",
    "model_01.compile(loss='binary_crossentropy', optimizer=opt, metrics=['accuracy'])\n",
    "\n",
    "model_01.fit(x=training_padded, y=y_train, batch_size=256, epochs=100, validation_data=(testing_padded, y_test), verbose=1)"
   ]
  },
  {
   "cell_type": "code",
   "execution_count": 45,
   "metadata": {
    "colab": {
     "base_uri": "https://localhost:8080/",
     "height": 450
    },
    "id": "pPuxYm6nw78Z",
    "outputId": "fc3eb64e-f85f-4a8f-82b7-327c18e3efd2"
   },
   "outputs": [
    {
     "data": {
      "text/html": [
       "<div>\n",
       "<style scoped>\n",
       "    .dataframe tbody tr th:only-of-type {\n",
       "        vertical-align: middle;\n",
       "    }\n",
       "\n",
       "    .dataframe tbody tr th {\n",
       "        vertical-align: top;\n",
       "    }\n",
       "\n",
       "    .dataframe thead th {\n",
       "        text-align: right;\n",
       "    }\n",
       "</style>\n",
       "<table border=\"1\" class=\"dataframe\">\n",
       "  <thead>\n",
       "    <tr style=\"text-align: right;\">\n",
       "      <th></th>\n",
       "      <th>loss</th>\n",
       "      <th>accuracy</th>\n",
       "      <th>val_loss</th>\n",
       "      <th>val_accuracy</th>\n",
       "      <th>Epoch</th>\n",
       "    </tr>\n",
       "    <tr>\n",
       "      <th>Epoch</th>\n",
       "      <th></th>\n",
       "      <th></th>\n",
       "      <th></th>\n",
       "      <th></th>\n",
       "      <th></th>\n",
       "    </tr>\n",
       "  </thead>\n",
       "  <tbody>\n",
       "    <tr>\n",
       "      <th>1</th>\n",
       "      <td>0.692213</td>\n",
       "      <td>0.51650</td>\n",
       "      <td>0.690765</td>\n",
       "      <td>0.565</td>\n",
       "      <td>1</td>\n",
       "    </tr>\n",
       "    <tr>\n",
       "      <th>2</th>\n",
       "      <td>0.689581</td>\n",
       "      <td>0.58675</td>\n",
       "      <td>0.688525</td>\n",
       "      <td>0.581</td>\n",
       "      <td>2</td>\n",
       "    </tr>\n",
       "    <tr>\n",
       "      <th>3</th>\n",
       "      <td>0.686343</td>\n",
       "      <td>0.60150</td>\n",
       "      <td>0.685399</td>\n",
       "      <td>0.586</td>\n",
       "      <td>3</td>\n",
       "    </tr>\n",
       "    <tr>\n",
       "      <th>4</th>\n",
       "      <td>0.682104</td>\n",
       "      <td>0.60125</td>\n",
       "      <td>0.681139</td>\n",
       "      <td>0.586</td>\n",
       "      <td>4</td>\n",
       "    </tr>\n",
       "    <tr>\n",
       "      <th>5</th>\n",
       "      <td>0.676538</td>\n",
       "      <td>0.61475</td>\n",
       "      <td>0.676667</td>\n",
       "      <td>0.591</td>\n",
       "      <td>5</td>\n",
       "    </tr>\n",
       "    <tr>\n",
       "      <th>...</th>\n",
       "      <td>...</td>\n",
       "      <td>...</td>\n",
       "      <td>...</td>\n",
       "      <td>...</td>\n",
       "      <td>...</td>\n",
       "    </tr>\n",
       "    <tr>\n",
       "      <th>96</th>\n",
       "      <td>0.001491</td>\n",
       "      <td>1.00000</td>\n",
       "      <td>1.384291</td>\n",
       "      <td>0.708</td>\n",
       "      <td>96</td>\n",
       "    </tr>\n",
       "    <tr>\n",
       "      <th>97</th>\n",
       "      <td>0.001548</td>\n",
       "      <td>0.99975</td>\n",
       "      <td>1.390040</td>\n",
       "      <td>0.713</td>\n",
       "      <td>97</td>\n",
       "    </tr>\n",
       "    <tr>\n",
       "      <th>98</th>\n",
       "      <td>0.001463</td>\n",
       "      <td>0.99975</td>\n",
       "      <td>1.394765</td>\n",
       "      <td>0.714</td>\n",
       "      <td>98</td>\n",
       "    </tr>\n",
       "    <tr>\n",
       "      <th>99</th>\n",
       "      <td>0.001418</td>\n",
       "      <td>0.99950</td>\n",
       "      <td>1.400176</td>\n",
       "      <td>0.707</td>\n",
       "      <td>99</td>\n",
       "    </tr>\n",
       "    <tr>\n",
       "      <th>100</th>\n",
       "      <td>0.001389</td>\n",
       "      <td>0.99950</td>\n",
       "      <td>1.405783</td>\n",
       "      <td>0.714</td>\n",
       "      <td>100</td>\n",
       "    </tr>\n",
       "  </tbody>\n",
       "</table>\n",
       "<p>100 rows × 5 columns</p>\n",
       "</div>"
      ],
      "text/plain": [
       "           loss  accuracy  val_loss  val_accuracy  Epoch\n",
       "Epoch                                                   \n",
       "1      0.692213   0.51650  0.690765         0.565      1\n",
       "2      0.689581   0.58675  0.688525         0.581      2\n",
       "3      0.686343   0.60150  0.685399         0.586      3\n",
       "4      0.682104   0.60125  0.681139         0.586      4\n",
       "5      0.676538   0.61475  0.676667         0.591      5\n",
       "...         ...       ...       ...           ...    ...\n",
       "96     0.001491   1.00000  1.384291         0.708     96\n",
       "97     0.001548   0.99975  1.390040         0.713     97\n",
       "98     0.001463   0.99975  1.394765         0.714     98\n",
       "99     0.001418   0.99950  1.400176         0.707     99\n",
       "100    0.001389   0.99950  1.405783         0.714    100\n",
       "\n",
       "[100 rows x 5 columns]"
      ]
     },
     "execution_count": 45,
     "metadata": {
      "tags": []
     },
     "output_type": "execute_result"
    }
   ],
   "source": [
    "df_m=pd.DataFrame(model_01.history.history)\n",
    "df_m['Epoch']=range(1,101)\n",
    "df_m.index=df_m['Epoch']\n",
    "df_m"
   ]
  },
  {
   "cell_type": "code",
   "execution_count": 48,
   "metadata": {
    "colab": {
     "base_uri": "https://localhost:8080/",
     "height": 295
    },
    "id": "U64Yw1gfzDgc",
    "outputId": "a48371d8-f74f-410e-f2df-bc5354ccb17c"
   },
   "outputs": [
    {
     "data": {
      "image/png": "[encoded data removed]",
      "text/plain": [
       "<Figure size 432x288 with 1 Axes>"
      ]
     },
     "metadata": {
      "tags": []
     },
     "output_type": "display_data"
    }
   ],
   "source": [
    "#Loss Graph(Training and Validation)\n",
    "#fig= plt.figure(figsize=(15,10))\n",
    "plt.plot(df_m['loss'])\n",
    "plt.plot(df_m['val_loss'])\n",
    "plt.title('model loss')\n",
    "plt.ylabel('loss')\n",
    "plt.xlabel('epoch')\n",
    "plt.legend(['train_loss', 'val_loss'])\n",
    "plt.show()"
   ]
  },
  {
   "cell_type": "code",
   "execution_count": 49,
   "metadata": {
    "colab": {
     "base_uri": "https://localhost:8080/",
     "height": 295
    },
    "id": "oXIoYDOw0oEC",
    "outputId": "3ac60d17-e5b2-4117-e57f-188f944a12b4"
   },
   "outputs": [
    {
     "data": {
      "image/png": "[encoded data removed]",
      "text/plain": [
       "<Figure size 432x288 with 1 Axes>"
      ]
     },
     "metadata": {
      "tags": []
     },
     "output_type": "display_data"
    }
   ],
   "source": [
    "#fig= plt.figure(figsize=(15,10))\n",
    "plt.plot(df_m['accuracy'])\n",
    "plt.plot(df_m['val_accuracy'])\n",
    "plt.title('model accuracy')\n",
    "plt.ylabel('accuracy')\n",
    "plt.xlabel('epoch')\n",
    "plt.legend(['train_acc', 'val_acc'])\n",
    "plt.show()"
   ]
  }
 ],
 "metadata": {
  "colab": {
   "name": "Sarcasm_Detection_using_CNN_twitter_dataset_v1.ipynb",
   "provenance": []
  },
  "kernelspec": {
   "display_name": "Python 3",
   "language": "python",
   "name": "python3"
  },
  "language_info": {
   "codemirror_mode": {
    "name": "ipython",
    "version": 3
   },
   "file_extension": ".py",
   "mimetype": "text/x-python",
   "name": "python",
   "nbconvert_exporter": "python",
   "pygments_lexer": "ipython3",
   "version": "3.9.1"
  }
 },
 "nbformat": 4,
 "nbformat_minor": 1
}
