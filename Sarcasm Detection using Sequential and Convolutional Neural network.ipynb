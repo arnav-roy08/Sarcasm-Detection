{
  "nbformat": 4,
  "nbformat_minor": 0,
  "metadata": {
    "colab": {
      "name": "NLPproject.ipynb",
      "provenance": [],
      "collapsed_sections": [],
      "authorship_tag": "ABX9TyP748C5APpcwXmijGgCUY2D",
      "include_colab_link": true
    },
    "kernelspec": {
      "display_name": "Python 3",
      "name": "python3"
    },
    "language_info": {
      "name": "python"
    }
  },
  "cells": [
    {
      "cell_type": "markdown",
      "metadata": {
        "id": "view-in-github",
        "colab_type": "text"
      },
      "source": [
        "<a href=\"https://colab.research.google.com/github/Suryansh1089/Sarcasm-Detection/blob/main/Sarcasm%20Detection%20using%20Sequential%20and%20Convolutional%20Neural%20network.ipynb\" target=\"_parent\"><img src=\"https://colab.research.google.com/assets/colab-badge.svg\" alt=\"Open In Colab\"/></a>"
      ]
    },
    {
      "cell_type": "code",
      "metadata": {
        "id": "Rf7kRDUoSrA_"
      },
      "source": [
        "# Run this to ensure TensorFlow 2.x is used\n",
        "try:\n",
        "  # %tensorflow_version only exists in Colab.\n",
        "  %tensorflow_version 2.x\n",
        "except Exception:\n",
        "  pass"
      ],
      "execution_count": 1,
      "outputs": []
    },
    {
      "cell_type": "code",
      "metadata": {
        "colab": {
          "base_uri": "https://localhost:8080/"
        },
        "id": "oShPDJCnTUaX",
        "outputId": "88cc06b5-bcb1-45e4-d1f4-7d5a1d3cd440"
      },
      "source": [
        "!pip install jsonlines\n",
        "import jsonlines\n",
        "import tensorflow as tf\n",
        "\n",
        "from tensorflow.keras.preprocessing.text import Tokenizer\n",
        "from tensorflow.keras.preprocessing.sequence import pad_sequences"
      ],
      "execution_count": 2,
      "outputs": [
        {
          "output_type": "stream",
          "text": [
            "Collecting jsonlines\n",
            "  Downloading https://files.pythonhosted.org/packages/d4/58/06f430ff7607a2929f80f07bfd820acbc508a4e977542fefcc522cde9dff/jsonlines-2.0.0-py3-none-any.whl\n",
            "Installing collected packages: jsonlines\n",
            "Successfully installed jsonlines-2.0.0\n"
          ],
          "name": "stdout"
        }
      ]
    },
    {
      "cell_type": "code",
      "metadata": {
        "id": "QiPX5qqzTW6S"
      },
      "source": [
        "vocab_size = 1000000\n",
        "embedding_dim = 16\n",
        "max_length = 100\n",
        "trunc_type='post'\n",
        "padding_type='post'\n",
        "oov_tok = \"<OOV>\"\n",
        "training_size =2500\n"
      ],
      "execution_count": 3,
      "outputs": []
    },
    {
      "cell_type": "code",
      "metadata": {
        "id": "OA6Frgc6RwGZ"
      },
      "source": [
        "import pandas as pd\n"
      ],
      "execution_count": 5,
      "outputs": []
    },
    {
      "cell_type": "code",
      "metadata": {
        "colab": {
          "base_uri": "https://localhost:8080/"
        },
        "id": "KUsNoc8JVlLx",
        "outputId": "c5314c96-58ae-4c99-ab7f-73f97dadc579"
      },
      "source": [
        "type('twitter_train.jsonl')"
      ],
      "execution_count": 6,
      "outputs": [
        {
          "output_type": "execute_result",
          "data": {
            "text/plain": [
              "str"
            ]
          },
          "metadata": {
            "tags": []
          },
          "execution_count": 6
        }
      ]
    },
    {
      "cell_type": "code",
      "metadata": {
        "id": "fwWp80OkIWsR"
      },
      "source": [
        "twitter_train=pd.read_json('twitter_train.jsonl',lines=True)"
      ],
      "execution_count": 9,
      "outputs": []
    },
    {
      "cell_type": "code",
      "metadata": {
        "colab": {
          "base_uri": "https://localhost:8080/",
          "height": 203
        },
        "id": "QmDbsxYiUqGf",
        "outputId": "ed136e1f-dee2-40f0-9cf0-6db2030802e2"
      },
      "source": [
        "twitter_train.head()"
      ],
      "execution_count": 10,
      "outputs": [
        {
          "output_type": "execute_result",
          "data": {
            "text/html": [
              "<div>\n",
              "<style scoped>\n",
              "    .dataframe tbody tr th:only-of-type {\n",
              "        vertical-align: middle;\n",
              "    }\n",
              "\n",
              "    .dataframe tbody tr th {\n",
              "        vertical-align: top;\n",
              "    }\n",
              "\n",
              "    .dataframe thead th {\n",
              "        text-align: right;\n",
              "    }\n",
              "</style>\n",
              "<table border=\"1\" class=\"dataframe\">\n",
              "  <thead>\n",
              "    <tr style=\"text-align: right;\">\n",
              "      <th></th>\n",
              "      <th>label</th>\n",
              "      <th>response</th>\n",
              "      <th>context</th>\n",
              "    </tr>\n",
              "  </thead>\n",
              "  <tbody>\n",
              "    <tr>\n",
              "      <th>0</th>\n",
              "      <td>SARCASM</td>\n",
              "      <td>@USER @USER @USER I don't get this .. obviousl...</td>\n",
              "      <td>[A minor child deserves privacy and should be ...</td>\n",
              "    </tr>\n",
              "    <tr>\n",
              "      <th>1</th>\n",
              "      <td>SARCASM</td>\n",
              "      <td>@USER @USER trying to protest about . Talking ...</td>\n",
              "      <td>[@USER @USER Why is he a loser ? He's just a P...</td>\n",
              "    </tr>\n",
              "    <tr>\n",
              "      <th>2</th>\n",
              "      <td>SARCASM</td>\n",
              "      <td>@USER @USER @USER He makes an insane about of ...</td>\n",
              "      <td>[Donald J . Trump is guilty as charged . The e...</td>\n",
              "    </tr>\n",
              "    <tr>\n",
              "      <th>3</th>\n",
              "      <td>SARCASM</td>\n",
              "      <td>@USER @USER Meanwhile Trump won't even release...</td>\n",
              "      <td>[Jamie Raskin tanked Doug Collins . Collins lo...</td>\n",
              "    </tr>\n",
              "    <tr>\n",
              "      <th>4</th>\n",
              "      <td>SARCASM</td>\n",
              "      <td>@USER @USER Pretty Sure the Anti-Lincoln Crowd...</td>\n",
              "      <td>[Man ... y ’ all gone “ both sides ” the apoca...</td>\n",
              "    </tr>\n",
              "  </tbody>\n",
              "</table>\n",
              "</div>"
            ],
            "text/plain": [
              "     label  ...                                            context\n",
              "0  SARCASM  ...  [A minor child deserves privacy and should be ...\n",
              "1  SARCASM  ...  [@USER @USER Why is he a loser ? He's just a P...\n",
              "2  SARCASM  ...  [Donald J . Trump is guilty as charged . The e...\n",
              "3  SARCASM  ...  [Jamie Raskin tanked Doug Collins . Collins lo...\n",
              "4  SARCASM  ...  [Man ... y ’ all gone “ both sides ” the apoca...\n",
              "\n",
              "[5 rows x 3 columns]"
            ]
          },
          "metadata": {
            "tags": []
          },
          "execution_count": 10
        }
      ]
    },
    {
      "cell_type": "code",
      "metadata": {
        "colab": {
          "base_uri": "https://localhost:8080/",
          "height": 203
        },
        "id": "zgUsnhlzU1jX",
        "outputId": "deaf0cd6-fc1e-4a5d-972e-2316b9edd42f"
      },
      "source": [
        "from sklearn.preprocessing import LabelEncoder\n",
        "le=LabelEncoder()\n",
        "train_label=le.fit_transform(twitter_train['label'])\n",
        "twitter_train['label']=train_label\n",
        "twitter_train.head()"
      ],
      "execution_count": 11,
      "outputs": [
        {
          "output_type": "execute_result",
          "data": {
            "text/html": [
              "<div>\n",
              "<style scoped>\n",
              "    .dataframe tbody tr th:only-of-type {\n",
              "        vertical-align: middle;\n",
              "    }\n",
              "\n",
              "    .dataframe tbody tr th {\n",
              "        vertical-align: top;\n",
              "    }\n",
              "\n",
              "    .dataframe thead th {\n",
              "        text-align: right;\n",
              "    }\n",
              "</style>\n",
              "<table border=\"1\" class=\"dataframe\">\n",
              "  <thead>\n",
              "    <tr style=\"text-align: right;\">\n",
              "      <th></th>\n",
              "      <th>label</th>\n",
              "      <th>response</th>\n",
              "      <th>context</th>\n",
              "    </tr>\n",
              "  </thead>\n",
              "  <tbody>\n",
              "    <tr>\n",
              "      <th>0</th>\n",
              "      <td>1</td>\n",
              "      <td>@USER @USER @USER I don't get this .. obviousl...</td>\n",
              "      <td>[A minor child deserves privacy and should be ...</td>\n",
              "    </tr>\n",
              "    <tr>\n",
              "      <th>1</th>\n",
              "      <td>1</td>\n",
              "      <td>@USER @USER trying to protest about . Talking ...</td>\n",
              "      <td>[@USER @USER Why is he a loser ? He's just a P...</td>\n",
              "    </tr>\n",
              "    <tr>\n",
              "      <th>2</th>\n",
              "      <td>1</td>\n",
              "      <td>@USER @USER @USER He makes an insane about of ...</td>\n",
              "      <td>[Donald J . Trump is guilty as charged . The e...</td>\n",
              "    </tr>\n",
              "    <tr>\n",
              "      <th>3</th>\n",
              "      <td>1</td>\n",
              "      <td>@USER @USER Meanwhile Trump won't even release...</td>\n",
              "      <td>[Jamie Raskin tanked Doug Collins . Collins lo...</td>\n",
              "    </tr>\n",
              "    <tr>\n",
              "      <th>4</th>\n",
              "      <td>1</td>\n",
              "      <td>@USER @USER Pretty Sure the Anti-Lincoln Crowd...</td>\n",
              "      <td>[Man ... y ’ all gone “ both sides ” the apoca...</td>\n",
              "    </tr>\n",
              "  </tbody>\n",
              "</table>\n",
              "</div>"
            ],
            "text/plain": [
              "   label  ...                                            context\n",
              "0      1  ...  [A minor child deserves privacy and should be ...\n",
              "1      1  ...  [@USER @USER Why is he a loser ? He's just a P...\n",
              "2      1  ...  [Donald J . Trump is guilty as charged . The e...\n",
              "3      1  ...  [Jamie Raskin tanked Doug Collins . Collins lo...\n",
              "4      1  ...  [Man ... y ’ all gone “ both sides ” the apoca...\n",
              "\n",
              "[5 rows x 3 columns]"
            ]
          },
          "metadata": {
            "tags": []
          },
          "execution_count": 11
        }
      ]
    },
    {
      "cell_type": "code",
      "metadata": {
        "colab": {
          "base_uri": "https://localhost:8080/"
        },
        "id": "A8gILLLdU6WM",
        "outputId": "54aeee57-3640-4332-b8bc-bee8707ca72e"
      },
      "source": [
        "type(twitter_train)"
      ],
      "execution_count": 12,
      "outputs": [
        {
          "output_type": "execute_result",
          "data": {
            "text/plain": [
              "pandas.core.frame.DataFrame"
            ]
          },
          "metadata": {
            "tags": []
          },
          "execution_count": 12
        }
      ]
    },
    {
      "cell_type": "code",
      "metadata": {
        "colab": {
          "base_uri": "https://localhost:8080/",
          "height": 203
        },
        "id": "ktSBT_8NcIY-",
        "outputId": "c4694678-d847-4cdf-936a-691a62ec055a"
      },
      "source": [
        "twitter_train['response']=twitter_train['response'].str.replace('@USER', \"\") \n",
        "twitter_train['response']=twitter_train['response'].str.replace('\\d+', '')\n",
        "twitter_train['response']=twitter_train['response'].str.lower()\n",
        "twitter_train['response']=twitter_train['response'].str.replace('[^\\w\\s]','')\n",
        "\n",
        "twitter_train['context']=twitter_train['context'].apply(lambda x: ','.join(map(str, x)))\n",
        "twitter_train['context']=twitter_train['context'].str.replace('@USER', \"\") \n",
        "twitter_train['context']=twitter_train['context'].str.lower()\n",
        "twitter_train['context']=twitter_train['context'].str.replace('[^\\w\\s]','')\n",
        "twitter_train['context']=twitter_train['context'].str.replace('\\d+', '')\n",
        "\n",
        "twitter_train.head()"
      ],
      "execution_count": 13,
      "outputs": [
        {
          "output_type": "execute_result",
          "data": {
            "text/html": [
              "<div>\n",
              "<style scoped>\n",
              "    .dataframe tbody tr th:only-of-type {\n",
              "        vertical-align: middle;\n",
              "    }\n",
              "\n",
              "    .dataframe tbody tr th {\n",
              "        vertical-align: top;\n",
              "    }\n",
              "\n",
              "    .dataframe thead th {\n",
              "        text-align: right;\n",
              "    }\n",
              "</style>\n",
              "<table border=\"1\" class=\"dataframe\">\n",
              "  <thead>\n",
              "    <tr style=\"text-align: right;\">\n",
              "      <th></th>\n",
              "      <th>label</th>\n",
              "      <th>response</th>\n",
              "      <th>context</th>\n",
              "    </tr>\n",
              "  </thead>\n",
              "  <tbody>\n",
              "    <tr>\n",
              "      <th>0</th>\n",
              "      <td>1</td>\n",
              "      <td>i dont get this  obviously you do care or y...</td>\n",
              "      <td>a minor child deserves privacy and should be k...</td>\n",
              "    </tr>\n",
              "    <tr>\n",
              "      <th>1</th>\n",
              "      <td>1</td>\n",
              "      <td>trying to protest about  talking about him a...</td>\n",
              "      <td>why is he a loser  hes just a press secretar...</td>\n",
              "    </tr>\n",
              "    <tr>\n",
              "      <th>2</th>\n",
              "      <td>1</td>\n",
              "      <td>he makes an insane about of money from the ...</td>\n",
              "      <td>donald j  trump is guilty as charged  the evid...</td>\n",
              "    </tr>\n",
              "    <tr>\n",
              "      <th>3</th>\n",
              "      <td>1</td>\n",
              "      <td>meanwhile trump wont even release his sat sc...</td>\n",
              "      <td>jamie raskin tanked doug collins  collins look...</td>\n",
              "    </tr>\n",
              "    <tr>\n",
              "      <th>4</th>\n",
              "      <td>1</td>\n",
              "      <td>pretty sure the antilincoln crowd claimed th...</td>\n",
              "      <td>man  y  all gone  both sides  the apocalypse o...</td>\n",
              "    </tr>\n",
              "  </tbody>\n",
              "</table>\n",
              "</div>"
            ],
            "text/plain": [
              "   label  ...                                            context\n",
              "0      1  ...  a minor child deserves privacy and should be k...\n",
              "1      1  ...    why is he a loser  hes just a press secretar...\n",
              "2      1  ...  donald j  trump is guilty as charged  the evid...\n",
              "3      1  ...  jamie raskin tanked doug collins  collins look...\n",
              "4      1  ...  man  y  all gone  both sides  the apocalypse o...\n",
              "\n",
              "[5 rows x 3 columns]"
            ]
          },
          "metadata": {
            "tags": []
          },
          "execution_count": 13
        }
      ]
    },
    {
      "cell_type": "code",
      "metadata": {
        "colab": {
          "base_uri": "https://localhost:8080/"
        },
        "id": "odqV6AXhU-bS",
        "outputId": "ea876e82-4173-4a5f-9799-a54fc8fc728e"
      },
      "source": [
        "twitter_train.shape"
      ],
      "execution_count": 14,
      "outputs": [
        {
          "output_type": "execute_result",
          "data": {
            "text/plain": [
              "(5000, 3)"
            ]
          },
          "metadata": {
            "tags": []
          },
          "execution_count": 14
        }
      ]
    },
    {
      "cell_type": "code",
      "metadata": {
        "colab": {
          "base_uri": "https://localhost:8080/"
        },
        "id": "RJ7OM-rYVA0T",
        "outputId": "625d17f3-448c-4648-8989-74cd9e6170a0"
      },
      "source": [
        "\n",
        "from collections import Counter\n",
        "Counter(twitter_train['label'])\n"
      ],
      "execution_count": 15,
      "outputs": [
        {
          "output_type": "execute_result",
          "data": {
            "text/plain": [
              "Counter({0: 2500, 1: 2500})"
            ]
          },
          "metadata": {
            "tags": []
          },
          "execution_count": 15
        }
      ]
    },
    {
      "cell_type": "code",
      "metadata": {
        "colab": {
          "base_uri": "https://localhost:8080/",
          "height": 35
        },
        "id": "2ErH9YHkVXts",
        "outputId": "ae6983f8-3a77-43f9-9142-4001272310d1"
      },
      "source": [
        "twitter_train['response'][0]"
      ],
      "execution_count": 16,
      "outputs": [
        {
          "output_type": "execute_result",
          "data": {
            "application/vnd.google.colaboratory.intrinsic+json": {
              "type": "string"
            },
            "text/plain": [
              "'   i dont get this  obviously you do care or you wouldve moved right along  instead you decided to care and troll her '"
            ]
          },
          "metadata": {
            "tags": []
          },
          "execution_count": 16
        }
      ]
    },
    {
      "cell_type": "code",
      "metadata": {
        "id": "jPc-0ijrNu7f"
      },
      "source": [
        "X=twitter_train['response'].values\n",
        "y=twitter_train['label'].values\n",
        "cont=twitter_train['context'].values"
      ],
      "execution_count": 24,
      "outputs": []
    },
    {
      "cell_type": "code",
      "metadata": {
        "colab": {
          "base_uri": "https://localhost:8080/"
        },
        "id": "FnKQTlseNx8w",
        "outputId": "7819b8f4-54e5-4d55-b04f-f24bf418f86a"
      },
      "source": [
        "X.shape"
      ],
      "execution_count": 20,
      "outputs": [
        {
          "output_type": "execute_result",
          "data": {
            "text/plain": [
              "(5000,)"
            ]
          },
          "metadata": {
            "tags": []
          },
          "execution_count": 20
        }
      ]
    },
    {
      "cell_type": "code",
      "metadata": {
        "id": "7GQJ0P5PWQx0",
        "colab": {
          "base_uri": "https://localhost:8080/"
        },
        "outputId": "e2aa213a-dc77-4746-eed7-7492c85a8ee8"
      },
      "source": [
        "y = pd.get_dummies(twitter_train['label'])\n",
        "y = y.iloc[:,1].values\n",
        "y"
      ],
      "execution_count": 22,
      "outputs": [
        {
          "output_type": "execute_result",
          "data": {
            "text/plain": [
              "array([1, 1, 1, ..., 0, 0, 0], dtype=uint8)"
            ]
          },
          "metadata": {
            "tags": []
          },
          "execution_count": 22
        }
      ]
    },
    {
      "cell_type": "code",
      "metadata": {
        "id": "wWWcaobWW-LF"
      },
      "source": [
        "from sklearn.model_selection import train_test_split\n",
        "training_sentences,testing_sentences,training_labels,testing_labels = train_test_split(X, y, test_size=0.2, random_state=0)"
      ],
      "execution_count": 23,
      "outputs": []
    },
    {
      "cell_type": "code",
      "metadata": {
        "colab": {
          "base_uri": "https://localhost:8080/",
          "height": 52
        },
        "id": "Q3IJkvqBXA5Z",
        "outputId": "fb3b0d22-4804-4430-f66c-9b191f5c4f0d"
      },
      "source": [
        ""
      ],
      "execution_count": null,
      "outputs": [
        {
          "output_type": "execute_result",
          "data": {
            "application/vnd.google.colaboratory.intrinsic+json": {
              "type": "string"
            },
            "text/plain": [
              "\"@USER @USER @USER I don't get this .. obviously you do care or you would've moved right along .. instead you decided to care and troll her ..\""
            ]
          },
          "metadata": {
            "tags": []
          },
          "execution_count": 25
        }
      ]
    },
    {
      "cell_type": "code",
      "metadata": {
        "id": "hty2EQdLcqEl"
      },
      "source": [
        "#change this\n",
        "\n",
        "training_cont=cont[0:training_size]\n",
        "testing_cont=cont[training_size:]"
      ],
      "execution_count": 25,
      "outputs": []
    },
    {
      "cell_type": "code",
      "metadata": {
        "id": "RTC10261cqRe"
      },
      "source": [
        "\n"
      ],
      "execution_count": 25,
      "outputs": []
    },
    {
      "cell_type": "code",
      "metadata": {
        "id": "Hfy8yOCVcqel"
      },
      "source": [
        ""
      ],
      "execution_count": 25,
      "outputs": []
    },
    {
      "cell_type": "code",
      "metadata": {
        "id": "8sjlYoPWXCO8"
      },
      "source": [
        "tokenizer = Tokenizer(num_words=vocab_size, oov_token=oov_tok)\n",
        "tokenizer.fit_on_texts(training_sentences)\n",
        "tokenizer.fit_on_texts(training_cont)\n",
        "word_index = tokenizer.word_index\n",
        "\n",
        "training_sequences = tokenizer.texts_to_sequences(training_sentences)\n",
        "training_padded = pad_sequences(training_sequences, maxlen=max_length, padding=padding_type, truncating=trunc_type)\n",
        "train_cont_sequences=tokenizer.texts_to_sequences(training_cont)\n",
        "training_cont_padded = pad_sequences(train_cont_sequences, maxlen=max_length, padding=padding_type, truncating=trunc_type)\n",
        "testing_sequences = tokenizer.texts_to_sequences(testing_sentences)\n",
        "testing_padded = pad_sequences(testing_sequences, maxlen=max_length, padding=padding_type, truncating=trunc_type)\n",
        "test_cont_sequences=tokenizer.texts_to_sequences(testing_cont)\n",
        "test_cont_padded = pad_sequences(test_cont_sequences, maxlen=max_length, padding=padding_type, truncating=trunc_type)\n"
      ],
      "execution_count": 26,
      "outputs": []
    },
    {
      "cell_type": "code",
      "metadata": {
        "id": "AmUlF7v6YE7y"
      },
      "source": [
        "import numpy as np\n",
        "training_padded = np.array(training_padded)\n",
        "\n",
        "training_cont_padded=np.array(training_cont_padded)\n",
        "training_labels = np.array(training_labels)\n",
        "testing_labels=np.array(testing_labels)\n",
        "testing_padded=np.array(testing_padded)\n",
        "test_cont_padded=np.array(test_cont_padded)"
      ],
      "execution_count": 27,
      "outputs": []
    },
    {
      "cell_type": "code",
      "metadata": {
        "id": "fztPW_dpYxKL"
      },
      "source": [
        "model = tf.keras.Sequential([\n",
        "    tf.keras.layers.Embedding(vocab_size, embedding_dim, input_length=5000),\n",
        "    tf.keras.layers.GlobalAveragePooling1D(),\n",
        "    tf.keras.layers.Dense(24, activation='relu'),\n",
        "    tf.keras.layers.Dropout(0.5),\n",
        "    tf.keras.layers.Dense(1, activation='sigmoid'),\n",
        "    tf.keras.layers.Dropout(0.5)\n",
        "])\n",
        "model.compile(loss='binary_crossentropy',optimizer='adam',metrics=['accuracy'])"
      ],
      "execution_count": 28,
      "outputs": []
    },
    {
      "cell_type": "code",
      "metadata": {
        "id": "i9K7wKHBY45z",
        "colab": {
          "base_uri": "https://localhost:8080/"
        },
        "outputId": "d9239022-85b9-4fdb-dfd4-5445635442be"
      },
      "source": [
        "model.summary()"
      ],
      "execution_count": 29,
      "outputs": [
        {
          "output_type": "stream",
          "text": [
            "Model: \"sequential\"\n",
            "_________________________________________________________________\n",
            "Layer (type)                 Output Shape              Param #   \n",
            "=================================================================\n",
            "embedding (Embedding)        (None, 5000, 16)          16000000  \n",
            "_________________________________________________________________\n",
            "global_average_pooling1d (Gl (None, 16)                0         \n",
            "_________________________________________________________________\n",
            "dense (Dense)                (None, 24)                408       \n",
            "_________________________________________________________________\n",
            "dropout (Dropout)            (None, 24)                0         \n",
            "_________________________________________________________________\n",
            "dense_1 (Dense)              (None, 1)                 25        \n",
            "_________________________________________________________________\n",
            "dropout_1 (Dropout)          (None, 1)                 0         \n",
            "=================================================================\n",
            "Total params: 16,000,433\n",
            "Trainable params: 16,000,433\n",
            "Non-trainable params: 0\n",
            "_________________________________________________________________\n"
          ],
          "name": "stdout"
        }
      ]
    },
    {
      "cell_type": "code",
      "metadata": {
        "id": "kpraFhOkvVNt"
      },
      "source": [
        "arr=[1,2]"
      ],
      "execution_count": 30,
      "outputs": []
    },
    {
      "cell_type": "code",
      "metadata": {
        "colab": {
          "base_uri": "https://localhost:8080/"
        },
        "id": "ECd5sYHKvgYB",
        "outputId": "e2fc48da-77f9-4c89-bb89-a4ed6d92bdc6"
      },
      "source": [
        "arr"
      ],
      "execution_count": 31,
      "outputs": [
        {
          "output_type": "execute_result",
          "data": {
            "text/plain": [
              "[1, 2]"
            ]
          },
          "metadata": {
            "tags": []
          },
          "execution_count": 31
        }
      ]
    },
    {
      "cell_type": "code",
      "metadata": {
        "id": "_-BQB7Jzvj81"
      },
      "source": [
        "a=2\n",
        "b=3\n",
        "arr2=[a,b]"
      ],
      "execution_count": 32,
      "outputs": []
    },
    {
      "cell_type": "code",
      "metadata": {
        "id": "b9daPgjjvkRY"
      },
      "source": [
        "arr3=[arr,arr2]"
      ],
      "execution_count": 33,
      "outputs": []
    },
    {
      "cell_type": "code",
      "metadata": {
        "colab": {
          "base_uri": "https://localhost:8080/"
        },
        "id": "Lbw-4mGAvkhw",
        "outputId": "501ae8be-6fc7-4142-a0f6-cab79fe1c0f9"
      },
      "source": [
        "arr3"
      ],
      "execution_count": 34,
      "outputs": [
        {
          "output_type": "execute_result",
          "data": {
            "text/plain": [
              "[[1, 2], [2, 3]]"
            ]
          },
          "metadata": {
            "tags": []
          },
          "execution_count": 34
        }
      ]
    },
    {
      "cell_type": "code",
      "metadata": {
        "colab": {
          "base_uri": "https://localhost:8080/"
        },
        "id": "ZB74cGfvvktg",
        "outputId": "bd43b392-7674-4dd5-d087-7b3f9a41dadd"
      },
      "source": [
        "type(training_padded)"
      ],
      "execution_count": 35,
      "outputs": [
        {
          "output_type": "execute_result",
          "data": {
            "text/plain": [
              "numpy.ndarray"
            ]
          },
          "metadata": {
            "tags": []
          },
          "execution_count": 35
        }
      ]
    },
    {
      "cell_type": "code",
      "metadata": {
        "id": "NISPWhkDq-ji",
        "colab": {
          "base_uri": "https://localhost:8080/"
        },
        "outputId": "d9d6d515-e492-4ff9-c12f-c350e5100a93"
      },
      "source": [
        "num_epochs = 10\n",
        "a=np.array([training_padded,training_cont_padded])\n",
        "b=np.array([testing_padded,test_cont_padded])"
      ],
      "execution_count": 36,
      "outputs": [
        {
          "output_type": "stream",
          "text": [
            "/usr/local/lib/python3.7/dist-packages/ipykernel_launcher.py:2: VisibleDeprecationWarning: Creating an ndarray from ragged nested sequences (which is a list-or-tuple of lists-or-tuples-or ndarrays with different lengths or shapes) is deprecated. If you meant to do this, you must specify 'dtype=object' when creating the ndarray\n",
            "  \n",
            "/usr/local/lib/python3.7/dist-packages/ipykernel_launcher.py:3: VisibleDeprecationWarning: Creating an ndarray from ragged nested sequences (which is a list-or-tuple of lists-or-tuples-or ndarrays with different lengths or shapes) is deprecated. If you meant to do this, you must specify 'dtype=object' when creating the ndarray\n",
            "  This is separate from the ipykernel package so we can avoid doing imports until\n"
          ],
          "name": "stderr"
        }
      ]
    },
    {
      "cell_type": "code",
      "metadata": {
        "colab": {
          "base_uri": "https://localhost:8080/"
        },
        "id": "G7R7BDZE1Shq",
        "outputId": "fd5eeaf5-ad77-41c8-a1d8-578ac3cc4cea"
      },
      "source": [
        "type(a)"
      ],
      "execution_count": 37,
      "outputs": [
        {
          "output_type": "execute_result",
          "data": {
            "text/plain": [
              "numpy.ndarray"
            ]
          },
          "metadata": {
            "tags": []
          },
          "execution_count": 37
        }
      ]
    },
    {
      "cell_type": "code",
      "metadata": {
        "colab": {
          "base_uri": "https://localhost:8080/"
        },
        "id": "whsC--cWvikB",
        "outputId": "765c959a-020f-40f6-c98f-9dd562fa1794"
      },
      "source": [
        "type(a)\n",
        "type(b)\n",
        "\n",
        "print(len(training_cont_padded))\n",
        "print(len(training_padded))\n",
        "print(len(test_cont_padded))\n",
        "print(len(testing_padded))\n",
        "print(len(training_labels))\n",
        "print(len(testing_labels))\n"
      ],
      "execution_count": 38,
      "outputs": [
        {
          "output_type": "stream",
          "text": [
            "2500\n",
            "4000\n",
            "2500\n",
            "1000\n",
            "4000\n",
            "1000\n"
          ],
          "name": "stdout"
        }
      ]
    },
    {
      "cell_type": "code",
      "metadata": {
        "id": "VvoPTL5HR145"
      },
      "source": [
        ""
      ],
      "execution_count": 38,
      "outputs": []
    },
    {
      "cell_type": "code",
      "metadata": {
        "colab": {
          "base_uri": "https://localhost:8080/"
        },
        "id": "RTGlfASKq-pa",
        "outputId": "1d68df66-b1dc-40fa-aed6-e59581fbce6c"
      },
      "source": [
        "\n",
        "history=model.fit(training_padded,training_labels,epochs=10,validation_data=(testing_padded,testing_labels),verbose=2)"
      ],
      "execution_count": 40,
      "outputs": [
        {
          "output_type": "stream",
          "text": [
            "Epoch 1/10\n",
            "125/125 - 20s - loss: 4.4139 - accuracy: 0.4950 - val_loss: 0.7501 - val_accuracy: 0.5190\n",
            "Epoch 2/10\n",
            "125/125 - 20s - loss: 4.3392 - accuracy: 0.4933 - val_loss: 0.7698 - val_accuracy: 0.5190\n",
            "Epoch 3/10\n",
            "125/125 - 20s - loss: 4.2500 - accuracy: 0.5052 - val_loss: 0.7878 - val_accuracy: 0.5190\n",
            "Epoch 4/10\n",
            "125/125 - 20s - loss: 4.2752 - accuracy: 0.4910 - val_loss: 0.7943 - val_accuracy: 0.5190\n",
            "Epoch 5/10\n",
            "125/125 - 20s - loss: 4.1946 - accuracy: 0.5185 - val_loss: 0.7881 - val_accuracy: 0.5190\n",
            "Epoch 6/10\n",
            "125/125 - 20s - loss: 4.2674 - accuracy: 0.5117 - val_loss: 0.7922 - val_accuracy: 0.5190\n",
            "Epoch 7/10\n",
            "125/125 - 20s - loss: 4.3034 - accuracy: 0.5107 - val_loss: 0.7874 - val_accuracy: 0.5190\n",
            "Epoch 8/10\n",
            "125/125 - 20s - loss: 4.1911 - accuracy: 0.5210 - val_loss: 0.7825 - val_accuracy: 0.5190\n",
            "Epoch 9/10\n",
            "125/125 - 20s - loss: 4.1606 - accuracy: 0.5362 - val_loss: 0.7816 - val_accuracy: 0.5190\n",
            "Epoch 10/10\n",
            "125/125 - 20s - loss: 4.1888 - accuracy: 0.5253 - val_loss: 0.7706 - val_accuracy: 0.5190\n"
          ],
          "name": "stdout"
        }
      ]
    },
    {
      "cell_type": "code",
      "metadata": {
        "colab": {
          "base_uri": "https://localhost:8080/"
        },
        "id": "T1WcKsPOq-to",
        "outputId": "ec58f5ee-fb46-46a3-c6e7-042e171dfab3"
      },
      "source": [
        "sentence = [\"Well now thats problematic AF \", \"My 5 year old ... asked me why they are making fun of Native Americans ..\", \"i will take shit that didn't happen for  100\", \" no .. he actually in the gifted program and reads on second grade level .  ... and he knows Kansas City is in Missouri\"]\n",
        "context=[\"doesnt even know easy sum\",\"doesnt even know easy sum\"]\n",
        "sequences = tokenizer.texts_to_sequences(sentence)\n",
        "cont_sequences=tokenizer.texts_to_sequences(context)\n",
        "padded = pad_sequences(sequences, maxlen=max_length, padding=padding_type, truncating=trunc_type)\n",
        "padded_cont=pad_sequences(cont_sequences,max_length,padding=padding_type,truncating='post')\n",
        "print(model.predict(padded))"
      ],
      "execution_count": 41,
      "outputs": [
        {
          "output_type": "stream",
          "text": [
            "WARNING:tensorflow:Model was constructed with shape (None, 5000) for input KerasTensor(type_spec=TensorSpec(shape=(None, 5000), dtype=tf.float32, name='embedding_input'), name='embedding_input', description=\"created by layer 'embedding_input'\"), but it was called on an input with incompatible shape (None, 100).\n",
            "[[0.283212  ]\n",
            " [0.28605753]\n",
            " [0.27892256]\n",
            " [0.27297598]]\n"
          ],
          "name": "stdout"
        }
      ]
    },
    {
      "cell_type": "code",
      "metadata": {
        "id": "wteRpxknq-wi"
      },
      "source": [
        ""
      ],
      "execution_count": 41,
      "outputs": []
    },
    {
      "cell_type": "code",
      "metadata": {
        "id": "u2xUkNwlYxw-"
      },
      "source": [
        ""
      ],
      "execution_count": 41,
      "outputs": []
    },
    {
      "cell_type": "code",
      "metadata": {
        "id": "pViwH5Lfq-zD"
      },
      "source": [
        ""
      ],
      "execution_count": 41,
      "outputs": []
    },
    {
      "cell_type": "code",
      "metadata": {
        "id": "jkzfNFNhq-2e"
      },
      "source": [
        ""
      ],
      "execution_count": 41,
      "outputs": []
    },
    {
      "cell_type": "code",
      "metadata": {
        "colab": {
          "base_uri": "https://localhost:8080/",
          "height": 203
        },
        "id": "KIHL2U2yZbjt",
        "outputId": "a7dc0439-b217-40c6-f469-9c6445ef88be"
      },
      "source": [
        "import pandas as pd\n",
        "twitter_test=pd.read_json('twitter_test.jsonl',lines='True')\n",
        "twitter_test.head()"
      ],
      "execution_count": 42,
      "outputs": [
        {
          "output_type": "execute_result",
          "data": {
            "text/html": [
              "<div>\n",
              "<style scoped>\n",
              "    .dataframe tbody tr th:only-of-type {\n",
              "        vertical-align: middle;\n",
              "    }\n",
              "\n",
              "    .dataframe tbody tr th {\n",
              "        vertical-align: top;\n",
              "    }\n",
              "\n",
              "    .dataframe thead th {\n",
              "        text-align: right;\n",
              "    }\n",
              "</style>\n",
              "<table border=\"1\" class=\"dataframe\">\n",
              "  <thead>\n",
              "    <tr style=\"text-align: right;\">\n",
              "      <th></th>\n",
              "      <th>context</th>\n",
              "      <th>response</th>\n",
              "      <th>id</th>\n",
              "    </tr>\n",
              "  </thead>\n",
              "  <tbody>\n",
              "    <tr>\n",
              "      <th>0</th>\n",
              "      <td>[Well now that ’ s problematic AF &lt;URL&gt;, @USER...</td>\n",
              "      <td>@USER @USER @USER My 3 year old , that just fi...</td>\n",
              "      <td>twitter_1</td>\n",
              "    </tr>\n",
              "    <tr>\n",
              "      <th>1</th>\n",
              "      <td>[Last week the Fake News said that a section o...</td>\n",
              "      <td>@USER @USER How many verifiable lies has he to...</td>\n",
              "      <td>twitter_2</td>\n",
              "    </tr>\n",
              "    <tr>\n",
              "      <th>2</th>\n",
              "      <td>[@USER Let ’ s Aplaud Brett When he deserves i...</td>\n",
              "      <td>@USER @USER @USER Maybe Docs just a scrub of a...</td>\n",
              "      <td>twitter_3</td>\n",
              "    </tr>\n",
              "    <tr>\n",
              "      <th>3</th>\n",
              "      <td>[Women generally hate this president . What's ...</td>\n",
              "      <td>@USER @USER is just a cover up for the real ha...</td>\n",
              "      <td>twitter_4</td>\n",
              "    </tr>\n",
              "    <tr>\n",
              "      <th>4</th>\n",
              "      <td>[Dear media Remoaners , you excitedly sharing ...</td>\n",
              "      <td>@USER @USER @USER The irony being that he even...</td>\n",
              "      <td>twitter_5</td>\n",
              "    </tr>\n",
              "  </tbody>\n",
              "</table>\n",
              "</div>"
            ],
            "text/plain": [
              "                                             context  ...         id\n",
              "0  [Well now that ’ s problematic AF <URL>, @USER...  ...  twitter_1\n",
              "1  [Last week the Fake News said that a section o...  ...  twitter_2\n",
              "2  [@USER Let ’ s Aplaud Brett When he deserves i...  ...  twitter_3\n",
              "3  [Women generally hate this president . What's ...  ...  twitter_4\n",
              "4  [Dear media Remoaners , you excitedly sharing ...  ...  twitter_5\n",
              "\n",
              "[5 rows x 3 columns]"
            ]
          },
          "metadata": {
            "tags": []
          },
          "execution_count": 42
        }
      ]
    },
    {
      "cell_type": "code",
      "metadata": {
        "id": "LmgGN0yBZbnI"
      },
      "source": [
        "twitter_test=twitter_test.drop(['id'],axis='columns')"
      ],
      "execution_count": 43,
      "outputs": []
    },
    {
      "cell_type": "code",
      "metadata": {
        "colab": {
          "base_uri": "https://localhost:8080/",
          "height": 203
        },
        "id": "jxR4EVlpZb7g",
        "outputId": "9f15644c-c218-4f9f-c952-8c6c8a70ef1e"
      },
      "source": [
        "twitter_test.head()"
      ],
      "execution_count": 44,
      "outputs": [
        {
          "output_type": "execute_result",
          "data": {
            "text/html": [
              "<div>\n",
              "<style scoped>\n",
              "    .dataframe tbody tr th:only-of-type {\n",
              "        vertical-align: middle;\n",
              "    }\n",
              "\n",
              "    .dataframe tbody tr th {\n",
              "        vertical-align: top;\n",
              "    }\n",
              "\n",
              "    .dataframe thead th {\n",
              "        text-align: right;\n",
              "    }\n",
              "</style>\n",
              "<table border=\"1\" class=\"dataframe\">\n",
              "  <thead>\n",
              "    <tr style=\"text-align: right;\">\n",
              "      <th></th>\n",
              "      <th>context</th>\n",
              "      <th>response</th>\n",
              "    </tr>\n",
              "  </thead>\n",
              "  <tbody>\n",
              "    <tr>\n",
              "      <th>0</th>\n",
              "      <td>[Well now that ’ s problematic AF &lt;URL&gt;, @USER...</td>\n",
              "      <td>@USER @USER @USER My 3 year old , that just fi...</td>\n",
              "    </tr>\n",
              "    <tr>\n",
              "      <th>1</th>\n",
              "      <td>[Last week the Fake News said that a section o...</td>\n",
              "      <td>@USER @USER How many verifiable lies has he to...</td>\n",
              "    </tr>\n",
              "    <tr>\n",
              "      <th>2</th>\n",
              "      <td>[@USER Let ’ s Aplaud Brett When he deserves i...</td>\n",
              "      <td>@USER @USER @USER Maybe Docs just a scrub of a...</td>\n",
              "    </tr>\n",
              "    <tr>\n",
              "      <th>3</th>\n",
              "      <td>[Women generally hate this president . What's ...</td>\n",
              "      <td>@USER @USER is just a cover up for the real ha...</td>\n",
              "    </tr>\n",
              "    <tr>\n",
              "      <th>4</th>\n",
              "      <td>[Dear media Remoaners , you excitedly sharing ...</td>\n",
              "      <td>@USER @USER @USER The irony being that he even...</td>\n",
              "    </tr>\n",
              "  </tbody>\n",
              "</table>\n",
              "</div>"
            ],
            "text/plain": [
              "                                             context                                           response\n",
              "0  [Well now that ’ s problematic AF <URL>, @USER...  @USER @USER @USER My 3 year old , that just fi...\n",
              "1  [Last week the Fake News said that a section o...  @USER @USER How many verifiable lies has he to...\n",
              "2  [@USER Let ’ s Aplaud Brett When he deserves i...  @USER @USER @USER Maybe Docs just a scrub of a...\n",
              "3  [Women generally hate this president . What's ...  @USER @USER is just a cover up for the real ha...\n",
              "4  [Dear media Remoaners , you excitedly sharing ...  @USER @USER @USER The irony being that he even..."
            ]
          },
          "metadata": {
            "tags": []
          },
          "execution_count": 44
        }
      ]
    },
    {
      "cell_type": "code",
      "metadata": {
        "id": "SkBK6LiS4Er8"
      },
      "source": [
        "sentences=twitter_test['response'].values"
      ],
      "execution_count": 52,
      "outputs": []
    },
    {
      "cell_type": "code",
      "metadata": {
        "colab": {
          "base_uri": "https://localhost:8080/",
          "height": 69
        },
        "id": "kQ-jzT9l4IqO",
        "outputId": "90456574-6f14-4000-cdf7-3ce2f758c148"
      },
      "source": [
        "sentences[0]"
      ],
      "execution_count": 53,
      "outputs": [
        {
          "output_type": "execute_result",
          "data": {
            "application/vnd.google.colaboratory.intrinsic+json": {
              "type": "string"
            },
            "text/plain": [
              "'@USER @USER @USER My 3 year old , that just finished reading Nietzsche and then asked me : \" ayo papa why these people always trying to cancel someone on Twitter , trying to pretend like that makes them better themselves ? \" . To which I replied \" idk \" , and he just \" cuz hoes mad \" . Im so proud . <URL>'"
            ]
          },
          "metadata": {
            "tags": []
          },
          "execution_count": 53
        }
      ]
    },
    {
      "cell_type": "code",
      "metadata": {
        "id": "THrNnLIF4LUl"
      },
      "source": [
        "tokenizer = Tokenizer(num_words=vocab_size, oov_token=oov_tok)\n",
        "tokenizer.fit_on_texts(sentences)\n",
        "\n",
        "word_index = tokenizer.word_index\n",
        "\n",
        "result_sequences = tokenizer.texts_to_sequences(sentences)\n",
        "result_padded = pad_sequences(result_sequences, maxlen=max_length, padding=padding_type, truncating=trunc_type)\n"
      ],
      "execution_count": 54,
      "outputs": []
    },
    {
      "cell_type": "code",
      "metadata": {
        "id": "rs-SRLGP7wbX"
      },
      "source": [
        "import numpy as np\n",
        "result_padded = np.array(result_padded)\n"
      ],
      "execution_count": 55,
      "outputs": []
    },
    {
      "cell_type": "code",
      "metadata": {
        "colab": {
          "base_uri": "https://localhost:8080/"
        },
        "id": "LI0eCaDURNe2",
        "outputId": "5db92fc9-94ff-49f0-8d48-c3c45cee903c"
      },
      "source": [
        "len(result_padded)"
      ],
      "execution_count": 62,
      "outputs": [
        {
          "output_type": "execute_result",
          "data": {
            "text/plain": [
              "1800"
            ]
          },
          "metadata": {
            "tags": []
          },
          "execution_count": 62
        }
      ]
    },
    {
      "cell_type": "code",
      "metadata": {
        "colab": {
          "base_uri": "https://localhost:8080/"
        },
        "id": "gBl0WiAx8BGZ",
        "outputId": "7a41c077-3d75-49d7-e505-935c40d6fd57"
      },
      "source": [
        "model.predict(result_padded)"
      ],
      "execution_count": 56,
      "outputs": [
        {
          "output_type": "execute_result",
          "data": {
            "text/plain": [
              "array([[0.29787323],\n",
              "       [0.2797593 ],\n",
              "       [0.27146894],\n",
              "       ...,\n",
              "       [0.27081504],\n",
              "       [0.2679575 ],\n",
              "       [0.2519898 ]], dtype=float32)"
            ]
          },
          "metadata": {
            "tags": []
          },
          "execution_count": 56
        }
      ]
    },
    {
      "cell_type": "code",
      "metadata": {
        "colab": {
          "base_uri": "https://localhost:8080/"
        },
        "id": "RTYET-4U8KML",
        "outputId": "f479838d-d065-47cc-9797-263d2b2abf4b"
      },
      "source": [
        "for i in range(1700,1720):\n",
        "  print(model.predict(result_padded)[i])"
      ],
      "execution_count": 63,
      "outputs": [
        {
          "output_type": "stream",
          "text": [
            "[0.29157376]\n",
            "[0.2717113]\n",
            "[0.27542338]\n",
            "[0.25970668]\n",
            "[0.27670288]\n",
            "[0.27018702]\n",
            "[0.29078358]\n",
            "[0.27850628]\n",
            "[0.28367215]\n",
            "[0.25138]\n",
            "[0.2693352]\n",
            "[0.25491846]\n",
            "[0.2739408]\n",
            "[0.26769227]\n",
            "[0.2867635]\n",
            "[0.27833712]\n",
            "[0.28728837]\n",
            "[0.2813533]\n",
            "[0.2653113]\n",
            "[0.28070742]\n"
          ],
          "name": "stdout"
        }
      ]
    },
    {
      "cell_type": "markdown",
      "metadata": {
        "id": "0uHspP529U53"
      },
      "source": [
        "FINAL PROBABILITIES OF STATEMENT BEING SARCASTIC\n"
      ]
    },
    {
      "cell_type": "markdown",
      "metadata": {
        "id": "MbmUTpshZsY8"
      },
      "source": [
        "USING CNN TO DETECT SARCASM"
      ]
    },
    {
      "cell_type": "code",
      "metadata": {
        "id": "EzUV2tfGZ1Sv"
      },
      "source": [
        "from tensorflow.keras.layers import Dense, Dropout, Embedding, Flatten\n",
        "from sklearn.metrics import f1_score\n",
        "from sklearn.metrics import confusion_matrix"
      ],
      "execution_count": 64,
      "outputs": []
    },
    {
      "cell_type": "code",
      "metadata": {
        "id": "YKsTiF4ZRW_G"
      },
      "source": [
        ""
      ],
      "execution_count": 64,
      "outputs": []
    },
    {
      "cell_type": "code",
      "metadata": {
        "id": "7WiP7nnvaCs9"
      },
      "source": [
        "from keras.models import Sequential\n",
        "from keras.models import Model, load_model\n",
        "from keras.layers import Input, Dense, Embedding, Conv1D, MaxPooling1D, Flatten\n",
        "from keras import optimizers"
      ],
      "execution_count": 65,
      "outputs": []
    },
    {
      "cell_type": "code",
      "metadata": {
        "colab": {
          "base_uri": "https://localhost:8080/"
        },
        "id": "hGscwP5IaJHD",
        "outputId": "c2d2410d-20c3-4625-ae87-e9de6932b474"
      },
      "source": [
        "input_data = Input(shape=(max_length,), name='main_input')\n",
        "embedding_layer = Embedding(vocab_size, embedding_dim, input_length=max_length)(input_data)\n",
        "conv_1 = Conv1D(filters=50, kernel_size=4, activation='relu')(embedding_layer)\n",
        "tf.keras.layers.Dropout(0.5)\n",
        "max_1 = MaxPooling1D(pool_size=2)(conv_1)\n",
        "conv_2 = Conv1D(filters=100, kernel_size=3, activation='relu')(max_1)\n",
        "tf.keras.layers.Dropout(0.5)\n",
        "max_2 = MaxPooling1D(pool_size=2)(conv_2)\n",
        "flatten = Flatten()(max_2)\n",
        "dense = Dense(100, activation='relu', name='fully_connected')(flatten)\n",
        "tf.keras.layers.Dropout(0.5)\n",
        "out = Dense(1, activation='sigmoid')(dense)\n",
        "tf.keras.layers.Dropout(0.5)\n",
        "model_01 = Model(inputs=[input_data], outputs=[out])\n",
        "\n",
        "print(model_01.summary())"
      ],
      "execution_count": 66,
      "outputs": [
        {
          "output_type": "stream",
          "text": [
            "Model: \"model\"\n",
            "_________________________________________________________________\n",
            "Layer (type)                 Output Shape              Param #   \n",
            "=================================================================\n",
            "main_input (InputLayer)      [(None, 100)]             0         \n",
            "_________________________________________________________________\n",
            "embedding (Embedding)        (None, 100, 16)           16000000  \n",
            "_________________________________________________________________\n",
            "conv1d (Conv1D)              (None, 97, 50)            3250      \n",
            "_________________________________________________________________\n",
            "max_pooling1d (MaxPooling1D) (None, 48, 50)            0         \n",
            "_________________________________________________________________\n",
            "conv1d_1 (Conv1D)            (None, 46, 100)           15100     \n",
            "_________________________________________________________________\n",
            "max_pooling1d_1 (MaxPooling1 (None, 23, 100)           0         \n",
            "_________________________________________________________________\n",
            "flatten (Flatten)            (None, 2300)              0         \n",
            "_________________________________________________________________\n",
            "fully_connected (Dense)      (None, 100)               230100    \n",
            "_________________________________________________________________\n",
            "dense (Dense)                (None, 1)                 101       \n",
            "=================================================================\n",
            "Total params: 16,248,551\n",
            "Trainable params: 16,248,551\n",
            "Non-trainable params: 0\n",
            "_________________________________________________________________\n",
            "None\n"
          ],
          "name": "stdout"
        }
      ]
    },
    {
      "cell_type": "code",
      "metadata": {
        "colab": {
          "base_uri": "https://localhost:8080/"
        },
        "id": "quoJxs_KbJKa",
        "outputId": "979f700b-bd34-4fe6-e7f2-223fa5225f7e"
      },
      "source": [
        "opt = tf.keras.optimizers.Adam(learning_rate=0.0001)\n",
        "model_01.compile(loss='binary_crossentropy', optimizer=opt, metrics=['accuracy'])\n",
        "\n",
        "model_01.fit(x=training_padded, y=training_labels, batch_size=256,epochs=10, validation_data=(testing_padded,testing_labels), verbose=1)"
      ],
      "execution_count": 67,
      "outputs": [
        {
          "output_type": "stream",
          "text": [
            "Epoch 1/10\n",
            "16/16 [==============================] - 20s 281ms/step - loss: 0.6926 - accuracy: 0.5181 - val_loss: 0.6909 - val_accuracy: 0.5790\n",
            "Epoch 2/10\n",
            "16/16 [==============================] - 4s 237ms/step - loss: 0.6899 - accuracy: 0.5946 - val_loss: 0.6871 - val_accuracy: 0.5990\n",
            "Epoch 3/10\n",
            "16/16 [==============================] - 4s 237ms/step - loss: 0.6853 - accuracy: 0.6085 - val_loss: 0.6824 - val_accuracy: 0.5910\n",
            "Epoch 4/10\n",
            "16/16 [==============================] - 4s 239ms/step - loss: 0.6784 - accuracy: 0.6091 - val_loss: 0.6760 - val_accuracy: 0.6000\n",
            "Epoch 5/10\n",
            "16/16 [==============================] - 4s 238ms/step - loss: 0.6701 - accuracy: 0.6181 - val_loss: 0.6705 - val_accuracy: 0.6030\n",
            "Epoch 6/10\n",
            "16/16 [==============================] - 4s 237ms/step - loss: 0.6638 - accuracy: 0.6211 - val_loss: 0.6680 - val_accuracy: 0.6010\n",
            "Epoch 7/10\n",
            "16/16 [==============================] - 4s 239ms/step - loss: 0.6599 - accuracy: 0.6264 - val_loss: 0.6669 - val_accuracy: 0.6020\n",
            "Epoch 8/10\n",
            "16/16 [==============================] - 4s 237ms/step - loss: 0.6562 - accuracy: 0.6242 - val_loss: 0.6661 - val_accuracy: 0.6020\n",
            "Epoch 9/10\n",
            "16/16 [==============================] - 4s 237ms/step - loss: 0.6525 - accuracy: 0.6361 - val_loss: 0.6624 - val_accuracy: 0.6050\n",
            "Epoch 10/10\n",
            "16/16 [==============================] - 4s 239ms/step - loss: 0.6419 - accuracy: 0.6320 - val_loss: 0.6630 - val_accuracy: 0.6030\n"
          ],
          "name": "stdout"
        },
        {
          "output_type": "execute_result",
          "data": {
            "text/plain": [
              "<keras.callbacks.History at 0x7ff247a2f6d0>"
            ]
          },
          "metadata": {
            "tags": []
          },
          "execution_count": 67
        }
      ]
    },
    {
      "cell_type": "code",
      "metadata": {
        "id": "cYpY6_s9bfPE"
      },
      "source": [
        ""
      ],
      "execution_count": null,
      "outputs": []
    }
  ]
}